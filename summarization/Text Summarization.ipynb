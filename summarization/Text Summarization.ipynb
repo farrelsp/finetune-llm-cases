{
 "cells": [
  {
   "cell_type": "markdown",
   "id": "559e6704-5e62-4d90-a9e3-64a76d9986d0",
   "metadata": {},
   "source": [
    "# Finetune T5 for Summarization"
   ]
  },
  {
   "cell_type": "markdown",
   "id": "0f8f581b-57fa-47a5-bb6d-90e166b9f0b4",
   "metadata": {},
   "source": [
    "## Benchmark T5 and BART for CNN/DM dataset"
   ]
  },
  {
   "cell_type": "code",
   "execution_count": 1,
   "id": "6e17ff58-dbbd-4008-ab95-18d180acc093",
   "metadata": {},
   "outputs": [],
   "source": [
    "import os\n",
    "os.environ[\"CUDA_VISIBLE_DEVICES\"] = \"0\""
   ]
  },
  {
   "cell_type": "code",
   "execution_count": 2,
   "id": "2508df88-f58d-4646-8c56-7012ace2658c",
   "metadata": {},
   "outputs": [],
   "source": [
    "import warnings\n",
    "warnings.filterwarnings('ignore')"
   ]
  },
  {
   "cell_type": "code",
   "execution_count": 3,
   "id": "be3c221d-bed1-4a50-97c0-867ce100778b",
   "metadata": {},
   "outputs": [],
   "source": [
    "from datasets import load_dataset\n",
    "\n",
    "dataset = load_dataset(\"cnn_dailymail\", '3.0.0', split=\"train[:10]\")"
   ]
  },
  {
   "cell_type": "code",
   "execution_count": 4,
   "id": "01b74d71-a1c7-425f-872e-a83588636033",
   "metadata": {},
   "outputs": [
    {
     "name": "stdout",
     "output_type": "stream",
     "text": [
      "Article:\n",
      "LONDON, England (Reuters) -- Harry Potter star Daniel Radcliffe gains access to a reported £20 million ($41.1 million) fortune as he turns 18 on Monday, but he insists the money won't cast a spell on him. Daniel Radcliffe as Harry Potter in \"Harry Potter and the Order of the Phoenix\" To the disappointment of gossip columnists around the world, the young actor says he has no plans to fritter his cash away on fast cars, drink and celebrity parties. \"I don't plan to be one of those people who, as soon as they turn 18, suddenly buy themselves a massive sports car collection or something similar,\" he told an Australian interviewer earlier this month. \"I don't think I'll be particularly extravagant. \"The things I like buying are things that cost about 10 pounds -- books and CDs and DVDs.\" At 18, Radcliffe will be able to gamble in a casino, buy a drink in a pub or see the horror film \"Hostel: Part II,\" currently six places below his number one movie on the UK box office chart. Details of how he'll mark his landmark birthday are under wraps. His agent and publicist had no comment on his plans. \"I'll definitely have some sort of party,\" he said in an interview. \"Hopefully none of you will be reading about it.\" Radcliffe's earnings from the first five Potter films have been held in a trust fund which he has not been able to touch. Despite his growing fame and riches, the actor says he is keeping his feet firmly on the ground. \"People are always looking to say 'kid star goes off the rails,'\" he told reporters last month. \"But I try very hard not to go that way because it would be too easy for them.\" His latest outing as the boy wizard in \"Harry Potter and the Order of the Phoenix\" is breaking records on both sides of the Atlantic and he will reprise the role in the last two films.  Watch I-Reporter give her review of Potter's latest » . There is life beyond Potter, however. The Londoner has filmed a TV movie called \"My Boy Jack,\" about author Rudyard Kipling and his son, due for release later this year. He will also appear in \"December Boys,\" an Australian film about four boys who escape an orphanage. Earlier this year, he made his stage debut playing a tortured teenager in Peter Shaffer's \"Equus.\" Meanwhile, he is braced for even closer media scrutiny now that he's legally an adult: \"I just think I'm going to be more sort of fair game,\" he told Reuters. E-mail to a friend . Copyright 2007 Reuters. All rights reserved.This material may not be published, broadcast, rewritten, or redistributed.\n",
      "\n",
      "Summary:\n",
      "Harry Potter star Daniel Radcliffe gets £20M fortune as he turns 18 Monday .\n",
      "Young actor says he has no plans to fritter his cash away .\n",
      "Radcliffe's earnings from first five Potter films have been held in trust fund .\n"
     ]
    }
   ],
   "source": [
    "print(\"Article:\")\n",
    "print(dataset[0]['article'])\n",
    "print(\"\\nSummary:\")\n",
    "print(dataset[0]['highlights'])"
   ]
  },
  {
   "cell_type": "code",
   "execution_count": 5,
   "id": "cee408db-1274-4ba7-af05-339a30727d92",
   "metadata": {},
   "outputs": [],
   "source": [
    "input = dataset[0]['article']"
   ]
  },
  {
   "cell_type": "code",
   "execution_count": 6,
   "id": "235846ee-8166-41ba-9cfd-d7a700fdef2e",
   "metadata": {},
   "outputs": [],
   "source": [
    "import torch\n",
    "from transformers import pipeline\n",
    "\n",
    "device = torch.device(\"cuda\" if torch.cuda.is_available() else 'cpu')"
   ]
  },
  {
   "cell_type": "code",
   "execution_count": 7,
   "id": "f8860229-da0c-4b34-a474-5871816404e0",
   "metadata": {},
   "outputs": [
    {
     "name": "stderr",
     "output_type": "stream",
     "text": [
      "Device set to use cuda:0\n",
      "Token indices sequence length is longer than the specified maximum sequence length for this model (638 > 512). Running this sequence through the model will result in indexing errors\n",
      "Device set to use cuda:0\n"
     ]
    }
   ],
   "source": [
    "summary = {}\n",
    "\n",
    "pipe = pipeline(\"summarization\", model=\"flax-community/t5-base-cnn-dm\")\n",
    "output = pipe(input)\n",
    "summary['t5-base'] = output[0]['summary_text']\n",
    "\n",
    "pipe = pipeline(\"summarization\", model=\"ainize/bart-base-cnn\")\n",
    "output = pipe(input)\n",
    "summary['bart-large'] = output[0]['summary_text']"
   ]
  },
  {
   "cell_type": "code",
   "execution_count": 8,
   "id": "0ff1d5df-16bb-48e9-89e1-263425a7fc05",
   "metadata": {},
   "outputs": [
    {
     "name": "stdout",
     "output_type": "stream",
     "text": [
      "Model: t5-base\n",
      "Summary: Harry Potter star Daniel Radcliffe gets £20 million ($41.1 million) fortune as he turns 18 Monday . The young actor says he has no plans to fritter his cash away on celebrity parties . His earnings from the first five Potter films have been held in a trust fund .\n",
      "\n",
      "Model: bart-large\n",
      "Summary: Daniel Radcliffe gains access to reported £20 million fortune as he turns 18 .\n",
      "Young actor says he has no plans to fritter his cash away on fast cars, drink .\n",
      "Details of how he'll mark landmark birthday are under wraps .\n",
      "Radcliffe's earnings from first five Potter films have been held in trust fund .\n",
      "\n"
     ]
    }
   ],
   "source": [
    "for model in summary:\n",
    "    print(f\"Model: {model}\")\n",
    "    print(f\"Summary: {summary[model]}\\n\")"
   ]
  },
  {
   "cell_type": "markdown",
   "id": "3bf44fd7-bf9d-4e15-9e1c-d32c3194f735",
   "metadata": {},
   "source": [
    "T5 produces shorter summary but still keeps the important things and more coherent than BART."
   ]
  },
  {
   "cell_type": "markdown",
   "id": "bea2b7b0-6160-48e4-a613-2980ddd18955",
   "metadata": {},
   "source": [
    "## T5 for Dialogue Summarization"
   ]
  },
  {
   "cell_type": "markdown",
   "id": "7e63eaa8-1073-4f43-82f5-8282e6ddf93d",
   "metadata": {},
   "source": [
    "### Import dataset"
   ]
  },
  {
   "cell_type": "code",
   "execution_count": 9,
   "id": "de044bb4-bf40-4366-b3fc-e27e32df166b",
   "metadata": {},
   "outputs": [],
   "source": [
    "samsum = load_dataset(\"knkarthick/samsum\", trust_remote_code=True)"
   ]
  },
  {
   "cell_type": "code",
   "execution_count": 10,
   "id": "ced0845c-41dc-49b5-9575-384d040c1945",
   "metadata": {},
   "outputs": [
    {
     "data": {
      "text/plain": [
       "DatasetDict({\n",
       "    train: Dataset({\n",
       "        features: ['id', 'dialogue', 'summary'],\n",
       "        num_rows: 14732\n",
       "    })\n",
       "    validation: Dataset({\n",
       "        features: ['id', 'dialogue', 'summary'],\n",
       "        num_rows: 818\n",
       "    })\n",
       "    test: Dataset({\n",
       "        features: ['id', 'dialogue', 'summary'],\n",
       "        num_rows: 819\n",
       "    })\n",
       "})"
      ]
     },
     "execution_count": 10,
     "metadata": {},
     "output_type": "execute_result"
    }
   ],
   "source": [
    "samsum"
   ]
  },
  {
   "cell_type": "code",
   "execution_count": 11,
   "id": "6647def9-2d1a-44fc-a9a5-e806c09b324c",
   "metadata": {},
   "outputs": [
    {
     "data": {
      "text/plain": [
       "{'id': '13728867',\n",
       " 'dialogue': 'Olivia: Who are you voting for in this election? \\nOliver: Liberals as always.\\nOlivia: Me too!!\\nOliver: Great',\n",
       " 'summary': 'Olivia and Olivier are voting for liberals in this election. '}"
      ]
     },
     "execution_count": 11,
     "metadata": {},
     "output_type": "execute_result"
    }
   ],
   "source": [
    "samsum['train'][1]"
   ]
  },
  {
   "cell_type": "markdown",
   "id": "9d907134-0e07-40ae-b8b9-d361a7a0a11f",
   "metadata": {},
   "source": [
    "### Dataset analysis"
   ]
  },
  {
   "cell_type": "code",
   "execution_count": 12,
   "id": "f42c652b-83f5-45b1-afa1-1cbc9f373c84",
   "metadata": {},
   "outputs": [],
   "source": [
    "# Check words length in dialogue and summary\n",
    "dialogue_len = [len(x['dialogue'].split()) for x in samsum['train'] if x['dialogue'] is not None]\n",
    "summary_len = [len(x['summary'].split()) for x in samsum['train'] if x['summary'] is not None]"
   ]
  },
  {
   "cell_type": "code",
   "execution_count": 13,
   "id": "11ecd5b5-59f4-4c95-a3f8-ff1a7321e064",
   "metadata": {},
   "outputs": [],
   "source": [
    "import pandas as pd\n",
    "import matplotlib.pyplot as plt"
   ]
  },
  {
   "cell_type": "code",
   "execution_count": 14,
   "id": "5a1b6c73-9ed7-4614-ae9e-5249edc56e25",
   "metadata": {},
   "outputs": [
    {
     "data": {
      "image/png": "[encoded data removed]",
      "text/plain": [
       "<Figure size 1000x300 with 2 Axes>"
      ]
     },
     "metadata": {},
     "output_type": "display_data"
    }
   ],
   "source": [
    "temp_data = pd.DataFrame([dialogue_len, summary_len]).T\n",
    "temp_data.columns = [\"Dialogue Length\", \"Summary Length\"]\n",
    "\n",
    "temp_data.hist(figsize=(10,3))\n",
    "plt.show()"
   ]
  },
  {
   "cell_type": "markdown",
   "id": "a126d44b-8630-48b1-a431-86ac6a70696b",
   "metadata": {},
   "source": [
    "We will set the maximum input length around 200 because most of the data is around 200 words."
   ]
  },
  {
   "cell_type": "markdown",
   "id": "78da381c-09e5-4368-85ef-3d6bdad4a25b",
   "metadata": {},
   "source": [
    "### Load model and tokenizer"
   ]
  },
  {
   "cell_type": "code",
   "execution_count": 15,
   "id": "093fe9e9-ad4f-4303-84e2-95f4edfc1591",
   "metadata": {},
   "outputs": [],
   "source": [
    "from transformers import AutoTokenizer, AutoModelForSeq2SeqLM"
   ]
  },
  {
   "cell_type": "code",
   "execution_count": 16,
   "id": "f2df3511-aa50-4ff3-a33a-2d323994af45",
   "metadata": {},
   "outputs": [],
   "source": [
    "model_ckpt = \"t5-small\"\n",
    "tokenizer = AutoTokenizer.from_pretrained(model_ckpt)\n",
    "model = AutoModelForSeq2SeqLM.from_pretrained(model_ckpt).to(device)"
   ]
  },
  {
   "cell_type": "code",
   "execution_count": 17,
   "id": "8238b1ca-6518-457d-8bca-8bd589f6f4f0",
   "metadata": {},
   "outputs": [
    {
     "data": {
      "text/plain": [
       "{'id': '13818513',\n",
       " 'dialogue': \"Amanda: I baked  cookies. Do you want some?\\nJerry: Sure!\\nAmanda: I'll bring you tomorrow :-)\",\n",
       " 'summary': 'Amanda baked cookies and will bring Jerry some tomorrow.'}"
      ]
     },
     "execution_count": 17,
     "metadata": {},
     "output_type": "execute_result"
    }
   ],
   "source": [
    "samsum['train'][0]"
   ]
  },
  {
   "cell_type": "code",
   "execution_count": 18,
   "id": "78b59aa0-a6c5-4630-abef-42caea99c2b2",
   "metadata": {},
   "outputs": [
    {
     "data": {
      "text/plain": [
       "{'input_ids': tensor([[21542,    10,    27, 13635,  5081,     5,   531,    25,   241,   128,\n",
       "            58, 16637,    10, 10625,    55, 21542,    10,    27,    31,   195,\n",
       "           830,    25,  5721,     3,    10,    18,    61,     1]]), 'attention_mask': tensor([[1, 1, 1, 1, 1, 1, 1, 1, 1, 1, 1, 1, 1, 1, 1, 1, 1, 1, 1, 1, 1, 1, 1, 1,\n",
       "         1, 1, 1, 1]]), 'labels': tensor([[21542, 13635,  5081,    11,    56,   830, 16637,   128,  5721,     5,\n",
       "             1]])}"
      ]
     },
     "execution_count": 18,
     "metadata": {},
     "output_type": "execute_result"
    }
   ],
   "source": [
    "tokenizer(samsum['train'][0]['dialogue'],\n",
    "         text_target=samsum['train'][0]['summary'], \n",
    "         return_tensors='pt')"
   ]
  },
  {
   "cell_type": "markdown",
   "id": "66924003-7881-4916-a1ab-7f40b02812be",
   "metadata": {},
   "source": [
    "### Remove null values on dataset\n",
    "Previously the train process encounter an error because the dataset contains null data, so it should be dropped."
   ]
  },
  {
   "cell_type": "code",
   "execution_count": 19,
   "id": "470443e7-98ed-4f9c-9d88-188de1b54dda",
   "metadata": {},
   "outputs": [
    {
     "data": {
      "text/plain": [
       "DatasetDict({\n",
       "    train: Dataset({\n",
       "        features: ['id', 'dialogue', 'summary'],\n",
       "        num_rows: 14732\n",
       "    })\n",
       "    validation: Dataset({\n",
       "        features: ['id', 'dialogue', 'summary'],\n",
       "        num_rows: 818\n",
       "    })\n",
       "    test: Dataset({\n",
       "        features: ['id', 'dialogue', 'summary'],\n",
       "        num_rows: 819\n",
       "    })\n",
       "})"
      ]
     },
     "execution_count": 19,
     "metadata": {},
     "output_type": "execute_result"
    }
   ],
   "source": [
    "samsum"
   ]
  },
  {
   "cell_type": "code",
   "execution_count": 20,
   "id": "b3e03d7f-e61c-4400-bd3a-4def265d373a",
   "metadata": {},
   "outputs": [],
   "source": [
    "df_train = pd.DataFrame(samsum['train']).dropna()\n",
    "df_validation = pd.DataFrame(samsum['validation']).dropna()\n",
    "df_test = pd.DataFrame(samsum['test']).dropna()"
   ]
  },
  {
   "cell_type": "code",
   "execution_count": 21,
   "id": "95381174-0b98-4c20-96d5-63de00238c4f",
   "metadata": {},
   "outputs": [],
   "source": [
    "from datasets import Dataset, DatasetDict"
   ]
  },
  {
   "cell_type": "code",
   "execution_count": 22,
   "id": "fe46683a-76fe-43d5-a847-3f27d5b0de36",
   "metadata": {},
   "outputs": [
    {
     "data": {
      "text/plain": [
       "DatasetDict({\n",
       "    train: Dataset({\n",
       "        features: ['id', 'dialogue', 'summary'],\n",
       "        num_rows: 14731\n",
       "    })\n",
       "    validation: Dataset({\n",
       "        features: ['id', 'dialogue', 'summary'],\n",
       "        num_rows: 818\n",
       "    })\n",
       "    test: Dataset({\n",
       "        features: ['id', 'dialogue', 'summary'],\n",
       "        num_rows: 819\n",
       "    })\n",
       "})"
      ]
     },
     "execution_count": 22,
     "metadata": {},
     "output_type": "execute_result"
    }
   ],
   "source": [
    "samsum = DatasetDict(\n",
    "    {\n",
    "        'train': Dataset.from_pandas(df_train, preserve_index=False),\n",
    "        'validation': Dataset.from_pandas(df_validation, preserve_index=False),\n",
    "        'test': Dataset.from_pandas(df_test, preserve_index=False)\n",
    "    }\n",
    ")\n",
    "\n",
    "samsum"
   ]
  },
  {
   "cell_type": "markdown",
   "id": "83648f4d-2384-4f1d-b0f6-ad26bf56e056",
   "metadata": {},
   "source": [
    "### Tokenization"
   ]
  },
  {
   "cell_type": "code",
   "execution_count": 23,
   "id": "8d9e7731-ad93-477b-aa1a-30d180c54bdb",
   "metadata": {},
   "outputs": [],
   "source": [
    "def tokenize(batch):\n",
    "    output = tokenizer(batch['dialogue'], \n",
    "                       text_target=batch['summary'],\n",
    "                       max_length=200,\n",
    "                       padding=True,\n",
    "                       truncation=True,\n",
    "                       return_tensors='pt')\n",
    "    return output"
   ]
  },
  {
   "cell_type": "code",
   "execution_count": 24,
   "id": "a178a29d-f483-4999-81ee-3851bd3b6a8c",
   "metadata": {},
   "outputs": [
    {
     "name": "stderr",
     "output_type": "stream",
     "text": [
      "Map: 100%|██████████| 14731/14731 [00:05<00:00, 2547.31 examples/s]\n",
      "Map: 100%|██████████| 818/818 [00:00<00:00, 2491.80 examples/s]\n",
      "Map: 100%|██████████| 819/819 [00:00<00:00, 2399.99 examples/s]\n"
     ]
    }
   ],
   "source": [
    "samsum_pt = samsum.map(tokenize, batched=True, batch_size=None)"
   ]
  },
  {
   "cell_type": "markdown",
   "id": "675c7244-b209-4228-9ccf-c53e3a53b518",
   "metadata": {},
   "source": [
    "### Data collation"
   ]
  },
  {
   "cell_type": "code",
   "execution_count": 25,
   "id": "440f71bc-0a31-4964-a59a-ae462a33ef4d",
   "metadata": {},
   "outputs": [],
   "source": [
    "from transformers import DataCollatorForSeq2Seq"
   ]
  },
  {
   "cell_type": "code",
   "execution_count": 26,
   "id": "685872a7-7b52-48b1-a59b-cdb3189eea08",
   "metadata": {},
   "outputs": [],
   "source": [
    "data_collator = DataCollatorForSeq2Seq(tokenizer, model=model)"
   ]
  },
  {
   "cell_type": "markdown",
   "id": "33647098-70fb-47f9-9618-0b3aee08eed3",
   "metadata": {},
   "source": [
    "### Train the model"
   ]
  },
  {
   "cell_type": "code",
   "execution_count": 27,
   "id": "3b37f37d-01c5-477f-88ad-6331f1fbc147",
   "metadata": {},
   "outputs": [],
   "source": [
    "from transformers import TrainingArguments"
   ]
  },
  {
   "cell_type": "code",
   "execution_count": 28,
   "id": "76cd5111-8410-490c-8b5d-0b5985664aa9",
   "metadata": {},
   "outputs": [],
   "source": [
    "batch_size = 32\n",
    "training_dir = \"train_dir\"\n",
    "\n",
    "training_args = TrainingArguments(\n",
    "    output_dir=training_dir,\n",
    "    num_train_epochs=2,\n",
    "    learning_rate=2e-5,\n",
    "    per_device_train_batch_size=batch_size,\n",
    "    per_device_eval_batch_size=batch_size,\n",
    "    weight_decay=0.01,\n",
    "    eval_strategy='epoch',\n",
    "    seed=42,\n",
    "    gradient_accumulation_steps=500\n",
    ")"
   ]
  },
  {
   "cell_type": "code",
   "execution_count": 29,
   "id": "aff4b749-a0a7-47b1-aa6c-db66182651fe",
   "metadata": {},
   "outputs": [],
   "source": [
    "from transformers import Trainer"
   ]
  },
  {
   "cell_type": "code",
   "execution_count": 30,
   "id": "1a2acfe7-b857-4c9b-8c37-a5f4c0b68ac6",
   "metadata": {},
   "outputs": [],
   "source": [
    "trainer = Trainer(model=model, \n",
    "                  args=training_args, \n",
    "                  data_collator=data_collator,\n",
    "                  train_dataset=samsum_pt['train'], \n",
    "                  eval_dataset=samsum_pt['validation'], \n",
    "                  tokenizer=tokenizer,    \n",
    "                 )"
   ]
  },
  {
   "cell_type": "code",
   "execution_count": 31,
   "id": "bff6972a-7aa5-4a31-a60b-f028cd87bf9f",
   "metadata": {},
   "outputs": [
    {
     "name": "stderr",
     "output_type": "stream",
     "text": [
      "Passing a tuple of `past_key_values` is deprecated and will be removed in Transformers v4.48.0. You should pass an instance of `EncoderDecoderCache` instead, e.g. `past_key_values=EncoderDecoderCache.from_legacy_cache(past_key_values)`.\n"
     ]
    },
    {
     "data": {
      "text/html": [
       "\n",
       "    <div>\n",
       "      \n",
       "      <progress value='2' max='2' style='width:300px; height:20px; vertical-align: middle;'></progress>\n",
       "      [2/2 01:30, Epoch 2/2]\n",
       "    </div>\n",
       "    <table border=\"1\" class=\"dataframe\">\n",
       "  <thead>\n",
       " <tr style=\"text-align: left;\">\n",
       "      <th>Epoch</th>\n",
       "      <th>Training Loss</th>\n",
       "      <th>Validation Loss</th>\n",
       "    </tr>\n",
       "  </thead>\n",
       "  <tbody>\n",
       "    <tr>\n",
       "      <td>1</td>\n",
       "      <td>No log</td>\n",
       "      <td>16.888424</td>\n",
       "    </tr>\n",
       "    <tr>\n",
       "      <td>2</td>\n",
       "      <td>No log</td>\n",
       "      <td>16.608576</td>\n",
       "    </tr>\n",
       "  </tbody>\n",
       "</table><p>"
      ],
      "text/plain": [
       "<IPython.core.display.HTML object>"
      ]
     },
     "metadata": {},
     "output_type": "display_data"
    },
    {
     "data": {
      "text/plain": [
       "TrainOutput(global_step=2, training_loss=14.438966751098633, metrics={'train_runtime': 174.4296, 'train_samples_per_second': 168.905, 'train_steps_per_second': 0.011, 'total_flos': 1557593810534400.0, 'train_loss': 14.438966751098633, 'epoch': 2.0})"
      ]
     },
     "execution_count": 31,
     "metadata": {},
     "output_type": "execute_result"
    }
   ],
   "source": [
    "trainer.train()"
   ]
  },
  {
   "cell_type": "markdown",
   "id": "dfc3602a-7af5-4041-baf7-966c12cdac62",
   "metadata": {},
   "source": [
    "We can add metrics like ROUGE or BLEU but in this notebook we only use validation loss."
   ]
  },
  {
   "cell_type": "code",
   "execution_count": 32,
   "id": "6f34d602-e499-4c55-9ff3-d96a80cfb6f3",
   "metadata": {},
   "outputs": [],
   "source": [
    "trainer.save_model(\"./models/t5_summarization\")"
   ]
  },
  {
   "cell_type": "markdown",
   "id": "34029cdc-2d99-460d-8493-0849f78ead3c",
   "metadata": {},
   "source": [
    "### Predict on another data"
   ]
  },
  {
   "cell_type": "code",
   "execution_count": 33,
   "id": "15609fc9-b005-452b-b364-aeb6e21b4970",
   "metadata": {},
   "outputs": [],
   "source": [
    "from transformers import pipeline\n",
    "\n",
    "device = torch.device(\"cuda\" if torch.cuda.is_available() else 'cpu')"
   ]
  },
  {
   "cell_type": "code",
   "execution_count": 34,
   "id": "b0d4316c-b465-40dc-ac55-c9f1bc47f853",
   "metadata": {},
   "outputs": [
    {
     "name": "stderr",
     "output_type": "stream",
     "text": [
      "Device set to use cuda\n"
     ]
    }
   ],
   "source": [
    "input = samsum['test'][100]['dialogue']\n",
    "pipe = pipeline('summarization', model=\"./models/t5_summarization\", device=device)\n",
    "\n",
    "output = pipe(input)"
   ]
  },
  {
   "cell_type": "code",
   "execution_count": 35,
   "id": "78403af3-9f5a-410f-a51e-fdbe10f6dd2e",
   "metadata": {},
   "outputs": [
    {
     "data": {
      "text/plain": [
       "\"Chris: Hi there! Where are you? Any chance of skyping?\\nRick: Hi! Our last two days in Cancun before flying to Havana. Yeah, skyping is an idea. When would it suit you?\\nRick: We don't have the best of connections in the room but I can get you pretty well in the lobby.\\nChris: What's the time in your place now?\\nRick: 6:45 pm\\nChris: It's a quarter to one in the morning here. Am still in front of the box.\\nRick: Gracious me! Sorry mate. You needn't have answered.\\nChris: 8-D\\nRick: Just tell me when we could skype.\\nChris: Preferably in the evening. Just a few hours earlier than now. And not tomorrow.\\nRick: Shute! Only tomorrow makes sense as there's no workable internet in Cuba.\\nChris: Could you make it like 3 pm your time?\\nRick: Sure.\\nChris: Perfect. So talk to you tomorrow.\\nChris: Give my love to Helen please.\\nRick: I will. Thx.\""
      ]
     },
     "execution_count": 35,
     "metadata": {},
     "output_type": "execute_result"
    }
   ],
   "source": [
    "input"
   ]
  },
  {
   "cell_type": "code",
   "execution_count": 36,
   "id": "c31ac169-8999-4fe1-94d9-e2b50bb0064c",
   "metadata": {},
   "outputs": [
    {
     "data": {
      "text/plain": [
       "[{'summary_text': \"Chris: I can get you pretty well in the lobby . Chris: a quarter to one in the morning here. You needn't have answered .\"}]"
      ]
     },
     "execution_count": 36,
     "metadata": {},
     "output_type": "execute_result"
    }
   ],
   "source": [
    "output"
   ]
  },
  {
   "cell_type": "code",
   "execution_count": null,
   "id": "a5511c88-0f83-4de3-911b-8fe991f70e0b",
   "metadata": {},
   "outputs": [],
   "source": []
  }
 ],
 "metadata": {
  "kernelspec": {
   "display_name": "Farrel (env)",
   "language": "python",
   "name": "farrelenv"
  },
  "language_info": {
   "codemirror_mode": {
    "name": "ipython",
    "version": 3
   },
   "file_extension": ".py",
   "mimetype": "text/x-python",
   "name": "python",
   "nbconvert_exporter": "python",
   "pygments_lexer": "ipython3",
   "version": "3.10.14"
  }
 },
 "nbformat": 4,
 "nbformat_minor": 5
}
