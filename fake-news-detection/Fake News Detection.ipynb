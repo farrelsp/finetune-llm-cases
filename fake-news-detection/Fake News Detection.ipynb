{
 "cells": [
  {
   "cell_type": "markdown",
   "id": "fecea150-5476-4246-91c5-883878282221",
   "metadata": {},
   "source": [
    "# Finetuning BERT, DistilBERT, MobileBERT, and TinyBERT for Fake News Classification"
   ]
  },
  {
   "cell_type": "markdown",
   "id": "53ef6482-ce92-4f6c-a189-d1d7740e7e83",
   "metadata": {},
   "source": [
    "## Import Dataset"
   ]
  },
  {
   "cell_type": "code",
   "execution_count": 1,
   "id": "7a5649e9-dd27-4ea8-88b6-05983b45e2a4",
   "metadata": {},
   "outputs": [],
   "source": [
    "import os\n",
    "os.environ[\"CUDA_VISIBLE_DEVICES\"] = \"0\""
   ]
  },
  {
   "cell_type": "code",
   "execution_count": 2,
   "id": "45973658-d1b9-4804-b9a9-31f947fe12ab",
   "metadata": {},
   "outputs": [],
   "source": [
    "import warnings\n",
    "warnings.filterwarnings('ignore')"
   ]
  },
  {
   "cell_type": "code",
   "execution_count": 3,
   "id": "a2e96d4d-0ba1-4b59-b0d9-aa31e3cf9f69",
   "metadata": {},
   "outputs": [],
   "source": [
    "import pandas as pd"
   ]
  },
  {
   "cell_type": "code",
   "execution_count": 4,
   "id": "24661186-926f-4be3-be65-33f88d4aa85b",
   "metadata": {},
   "outputs": [
    {
     "data": {
      "text/html": [
       "<div>\n",
       "<style scoped>\n",
       "    .dataframe tbody tr th:only-of-type {\n",
       "        vertical-align: middle;\n",
       "    }\n",
       "\n",
       "    .dataframe tbody tr th {\n",
       "        vertical-align: top;\n",
       "    }\n",
       "\n",
       "    .dataframe thead th {\n",
       "        text-align: right;\n",
       "    }\n",
       "</style>\n",
       "<table border=\"1\" class=\"dataframe\">\n",
       "  <thead>\n",
       "    <tr style=\"text-align: right;\">\n",
       "      <th></th>\n",
       "      <th>id</th>\n",
       "      <th>title</th>\n",
       "      <th>author</th>\n",
       "      <th>text</th>\n",
       "      <th>label</th>\n",
       "    </tr>\n",
       "  </thead>\n",
       "  <tbody>\n",
       "    <tr>\n",
       "      <th>0</th>\n",
       "      <td>0</td>\n",
       "      <td>House Dem Aide: We Didn’t Even See Comey’s Let...</td>\n",
       "      <td>Darrell Lucus</td>\n",
       "      <td>House Dem Aide: We Didn’t Even See Comey’s Let...</td>\n",
       "      <td>1</td>\n",
       "    </tr>\n",
       "    <tr>\n",
       "      <th>1</th>\n",
       "      <td>1</td>\n",
       "      <td>FLYNN: Hillary Clinton, Big Woman on Campus - ...</td>\n",
       "      <td>Daniel J. Flynn</td>\n",
       "      <td>Ever get the feeling your life circles the rou...</td>\n",
       "      <td>0</td>\n",
       "    </tr>\n",
       "    <tr>\n",
       "      <th>2</th>\n",
       "      <td>2</td>\n",
       "      <td>Why the Truth Might Get You Fired</td>\n",
       "      <td>Consortiumnews.com</td>\n",
       "      <td>Why the Truth Might Get You Fired October 29, ...</td>\n",
       "      <td>1</td>\n",
       "    </tr>\n",
       "    <tr>\n",
       "      <th>3</th>\n",
       "      <td>3</td>\n",
       "      <td>15 Civilians Killed In Single US Airstrike Hav...</td>\n",
       "      <td>Jessica Purkiss</td>\n",
       "      <td>Videos 15 Civilians Killed In Single US Airstr...</td>\n",
       "      <td>1</td>\n",
       "    </tr>\n",
       "    <tr>\n",
       "      <th>4</th>\n",
       "      <td>4</td>\n",
       "      <td>Iranian woman jailed for fictional unpublished...</td>\n",
       "      <td>Howard Portnoy</td>\n",
       "      <td>Print \\nAn Iranian woman has been sentenced to...</td>\n",
       "      <td>1</td>\n",
       "    </tr>\n",
       "  </tbody>\n",
       "</table>\n",
       "</div>"
      ],
      "text/plain": [
       "   id                                              title              author  \\\n",
       "0   0  House Dem Aide: We Didn’t Even See Comey’s Let...       Darrell Lucus   \n",
       "1   1  FLYNN: Hillary Clinton, Big Woman on Campus - ...     Daniel J. Flynn   \n",
       "2   2                  Why the Truth Might Get You Fired  Consortiumnews.com   \n",
       "3   3  15 Civilians Killed In Single US Airstrike Hav...     Jessica Purkiss   \n",
       "4   4  Iranian woman jailed for fictional unpublished...      Howard Portnoy   \n",
       "\n",
       "                                                text  label  \n",
       "0  House Dem Aide: We Didn’t Even See Comey’s Let...      1  \n",
       "1  Ever get the feeling your life circles the rou...      0  \n",
       "2  Why the Truth Might Get You Fired October 29, ...      1  \n",
       "3  Videos 15 Civilians Killed In Single US Airstr...      1  \n",
       "4  Print \\nAn Iranian woman has been sentenced to...      1  "
      ]
     },
     "execution_count": 4,
     "metadata": {},
     "output_type": "execute_result"
    }
   ],
   "source": [
    "df = pd.read_excel(\"datasets/fake_news.xlsx\")\n",
    "df.head()"
   ]
  },
  {
   "cell_type": "code",
   "execution_count": 5,
   "id": "2de889b3-789c-4908-9335-6fd4dc84eb72",
   "metadata": {},
   "outputs": [
    {
     "name": "stdout",
     "output_type": "stream",
     "text": [
      "<class 'pandas.core.frame.DataFrame'>\n",
      "RangeIndex: 20800 entries, 0 to 20799\n",
      "Data columns (total 5 columns):\n",
      " #   Column  Non-Null Count  Dtype \n",
      "---  ------  --------------  ----- \n",
      " 0   id      20800 non-null  int64 \n",
      " 1   title   20242 non-null  object\n",
      " 2   author  18843 non-null  object\n",
      " 3   text    20757 non-null  object\n",
      " 4   label   20800 non-null  int64 \n",
      "dtypes: int64(2), object(3)\n",
      "memory usage: 812.6+ KB\n"
     ]
    }
   ],
   "source": [
    "df.info()"
   ]
  },
  {
   "cell_type": "code",
   "execution_count": 6,
   "id": "effd0908-49b2-4329-b6c8-d6248466716e",
   "metadata": {},
   "outputs": [
    {
     "data": {
      "text/plain": [
       "id           0\n",
       "title      558\n",
       "author    1957\n",
       "text        43\n",
       "label        0\n",
       "dtype: int64"
      ]
     },
     "execution_count": 6,
     "metadata": {},
     "output_type": "execute_result"
    }
   ],
   "source": [
    "df.isnull().sum()"
   ]
  },
  {
   "cell_type": "code",
   "execution_count": 7,
   "id": "1766f5f6-525a-4986-a209-b1cea672511b",
   "metadata": {},
   "outputs": [
    {
     "data": {
      "text/plain": [
       "id        0\n",
       "title     0\n",
       "author    0\n",
       "text      0\n",
       "label     0\n",
       "dtype: int64"
      ]
     },
     "execution_count": 7,
     "metadata": {},
     "output_type": "execute_result"
    }
   ],
   "source": [
    "# Drop null values\n",
    "df = df.dropna()\n",
    "df.isnull().sum()"
   ]
  },
  {
   "cell_type": "code",
   "execution_count": 8,
   "id": "338daf0d-8a56-495b-9ba0-862a3f42d20d",
   "metadata": {},
   "outputs": [
    {
     "data": {
      "text/plain": [
       "(18281, 5)"
      ]
     },
     "execution_count": 8,
     "metadata": {},
     "output_type": "execute_result"
    }
   ],
   "source": [
    "df.shape"
   ]
  },
  {
   "cell_type": "code",
   "execution_count": 9,
   "id": "93687474-09b1-4d04-b519-65de93ea8a91",
   "metadata": {},
   "outputs": [
    {
     "data": {
      "text/plain": [
       "label\n",
       "0    10361\n",
       "1     7920\n",
       "Name: count, dtype: int64"
      ]
     },
     "execution_count": 9,
     "metadata": {},
     "output_type": "execute_result"
    }
   ],
   "source": [
    "df['label'].value_counts()"
   ]
  },
  {
   "cell_type": "markdown",
   "id": "13d7fcd3-bad0-4a36-8f91-03a580f012a0",
   "metadata": {},
   "source": [
    "## Dataset Analysis"
   ]
  },
  {
   "cell_type": "code",
   "execution_count": 10,
   "id": "fff1a069-294f-4298-a70a-75fdb3a25920",
   "metadata": {},
   "outputs": [],
   "source": [
    "import matplotlib.pyplot as plt"
   ]
  },
  {
   "cell_type": "code",
   "execution_count": 11,
   "id": "53dd8e52-9cfb-4ec9-8050-f7158f74b160",
   "metadata": {},
   "outputs": [
    {
     "data": {
      "image/png": "[encoded data removed]",
      "text/plain": [
       "<Figure size 640x480 with 1 Axes>"
      ]
     },
     "metadata": {},
     "output_type": "display_data"
    }
   ],
   "source": [
    "label_counts = df['label'].value_counts(ascending=True)\n",
    "label_counts.plot.barh()\n",
    "plt.title(\"Frequency of Classes\")\n",
    "plt.xlabel(\"Frequency\")\n",
    "plt.ylabel('Label name')\n",
    "plt.show()"
   ]
  },
  {
   "cell_type": "code",
   "execution_count": 12,
   "id": "2d363d9b-6f37-43c7-9301-7d90205754cd",
   "metadata": {},
   "outputs": [
    {
     "data": {
      "text/html": [
       "<div>\n",
       "<style scoped>\n",
       "    .dataframe tbody tr th:only-of-type {\n",
       "        vertical-align: middle;\n",
       "    }\n",
       "\n",
       "    .dataframe tbody tr th {\n",
       "        vertical-align: top;\n",
       "    }\n",
       "\n",
       "    .dataframe thead th {\n",
       "        text-align: right;\n",
       "    }\n",
       "</style>\n",
       "<table border=\"1\" class=\"dataframe\">\n",
       "  <thead>\n",
       "    <tr style=\"text-align: right;\">\n",
       "      <th></th>\n",
       "      <th>id</th>\n",
       "      <th>title</th>\n",
       "      <th>author</th>\n",
       "      <th>text</th>\n",
       "      <th>label</th>\n",
       "    </tr>\n",
       "  </thead>\n",
       "  <tbody>\n",
       "    <tr>\n",
       "      <th>0</th>\n",
       "      <td>0</td>\n",
       "      <td>House Dem Aide: We Didn’t Even See Comey’s Let...</td>\n",
       "      <td>Darrell Lucus</td>\n",
       "      <td>House Dem Aide: We Didn’t Even See Comey’s Let...</td>\n",
       "      <td>1</td>\n",
       "    </tr>\n",
       "    <tr>\n",
       "      <th>1</th>\n",
       "      <td>1</td>\n",
       "      <td>FLYNN: Hillary Clinton, Big Woman on Campus - ...</td>\n",
       "      <td>Daniel J. Flynn</td>\n",
       "      <td>Ever get the feeling your life circles the rou...</td>\n",
       "      <td>0</td>\n",
       "    </tr>\n",
       "    <tr>\n",
       "      <th>2</th>\n",
       "      <td>2</td>\n",
       "      <td>Why the Truth Might Get You Fired</td>\n",
       "      <td>Consortiumnews.com</td>\n",
       "      <td>Why the Truth Might Get You Fired October 29, ...</td>\n",
       "      <td>1</td>\n",
       "    </tr>\n",
       "    <tr>\n",
       "      <th>3</th>\n",
       "      <td>3</td>\n",
       "      <td>15 Civilians Killed In Single US Airstrike Hav...</td>\n",
       "      <td>Jessica Purkiss</td>\n",
       "      <td>Videos 15 Civilians Killed In Single US Airstr...</td>\n",
       "      <td>1</td>\n",
       "    </tr>\n",
       "    <tr>\n",
       "      <th>4</th>\n",
       "      <td>4</td>\n",
       "      <td>Iranian woman jailed for fictional unpublished...</td>\n",
       "      <td>Howard Portnoy</td>\n",
       "      <td>Print \\nAn Iranian woman has been sentenced to...</td>\n",
       "      <td>1</td>\n",
       "    </tr>\n",
       "  </tbody>\n",
       "</table>\n",
       "</div>"
      ],
      "text/plain": [
       "   id                                              title              author  \\\n",
       "0   0  House Dem Aide: We Didn’t Even See Comey’s Let...       Darrell Lucus   \n",
       "1   1  FLYNN: Hillary Clinton, Big Woman on Campus - ...     Daniel J. Flynn   \n",
       "2   2                  Why the Truth Might Get You Fired  Consortiumnews.com   \n",
       "3   3  15 Civilians Killed In Single US Airstrike Hav...     Jessica Purkiss   \n",
       "4   4  Iranian woman jailed for fictional unpublished...      Howard Portnoy   \n",
       "\n",
       "                                                text  label  \n",
       "0  House Dem Aide: We Didn’t Even See Comey’s Let...      1  \n",
       "1  Ever get the feeling your life circles the rou...      0  \n",
       "2  Why the Truth Might Get You Fired October 29, ...      1  \n",
       "3  Videos 15 Civilians Killed In Single US Airstr...      1  \n",
       "4  Print \\nAn Iranian woman has been sentenced to...      1  "
      ]
     },
     "execution_count": 12,
     "metadata": {},
     "output_type": "execute_result"
    }
   ],
   "source": [
    "df.head()"
   ]
  },
  {
   "cell_type": "markdown",
   "id": "63950daf-c0aa-4f85-a516-d4aae7d23aeb",
   "metadata": {},
   "source": [
    "There are two columns that can be input for the models: title & text.\n",
    "\n",
    "BERT models only have limited 512 token input. \n",
    "\n",
    "Assume every word is equal to 1.5 token. Then, find the average token length in title and text columns."
   ]
  },
  {
   "cell_type": "code",
   "execution_count": 13,
   "id": "ccd7fe72-f542-42fd-9651-a287e2bef3cf",
   "metadata": {},
   "outputs": [
    {
     "data": {
      "text/html": [
       "<div>\n",
       "<style scoped>\n",
       "    .dataframe tbody tr th:only-of-type {\n",
       "        vertical-align: middle;\n",
       "    }\n",
       "\n",
       "    .dataframe tbody tr th {\n",
       "        vertical-align: top;\n",
       "    }\n",
       "\n",
       "    .dataframe thead th {\n",
       "        text-align: right;\n",
       "    }\n",
       "</style>\n",
       "<table border=\"1\" class=\"dataframe\">\n",
       "  <thead>\n",
       "    <tr style=\"text-align: right;\">\n",
       "      <th></th>\n",
       "      <th>id</th>\n",
       "      <th>title</th>\n",
       "      <th>author</th>\n",
       "      <th>text</th>\n",
       "      <th>label</th>\n",
       "      <th>title_token</th>\n",
       "      <th>text_token</th>\n",
       "    </tr>\n",
       "  </thead>\n",
       "  <tbody>\n",
       "    <tr>\n",
       "      <th>0</th>\n",
       "      <td>0</td>\n",
       "      <td>House Dem Aide: We Didn’t Even See Comey’s Let...</td>\n",
       "      <td>Darrell Lucus</td>\n",
       "      <td>House Dem Aide: We Didn’t Even See Comey’s Let...</td>\n",
       "      <td>1</td>\n",
       "      <td>21.0</td>\n",
       "      <td>1230.0</td>\n",
       "    </tr>\n",
       "    <tr>\n",
       "      <th>1</th>\n",
       "      <td>1</td>\n",
       "      <td>FLYNN: Hillary Clinton, Big Woman on Campus - ...</td>\n",
       "      <td>Daniel J. Flynn</td>\n",
       "      <td>Ever get the feeling your life circles the rou...</td>\n",
       "      <td>0</td>\n",
       "      <td>13.5</td>\n",
       "      <td>1065.0</td>\n",
       "    </tr>\n",
       "    <tr>\n",
       "      <th>2</th>\n",
       "      <td>2</td>\n",
       "      <td>Why the Truth Might Get You Fired</td>\n",
       "      <td>Consortiumnews.com</td>\n",
       "      <td>Why the Truth Might Get You Fired October 29, ...</td>\n",
       "      <td>1</td>\n",
       "      <td>10.5</td>\n",
       "      <td>1899.0</td>\n",
       "    </tr>\n",
       "    <tr>\n",
       "      <th>3</th>\n",
       "      <td>3</td>\n",
       "      <td>15 Civilians Killed In Single US Airstrike Hav...</td>\n",
       "      <td>Jessica Purkiss</td>\n",
       "      <td>Videos 15 Civilians Killed In Single US Airstr...</td>\n",
       "      <td>1</td>\n",
       "      <td>15.0</td>\n",
       "      <td>835.5</td>\n",
       "    </tr>\n",
       "    <tr>\n",
       "      <th>4</th>\n",
       "      <td>4</td>\n",
       "      <td>Iranian woman jailed for fictional unpublished...</td>\n",
       "      <td>Howard Portnoy</td>\n",
       "      <td>Print \\nAn Iranian woman has been sentenced to...</td>\n",
       "      <td>1</td>\n",
       "      <td>21.0</td>\n",
       "      <td>231.0</td>\n",
       "    </tr>\n",
       "  </tbody>\n",
       "</table>\n",
       "</div>"
      ],
      "text/plain": [
       "   id                                              title              author  \\\n",
       "0   0  House Dem Aide: We Didn’t Even See Comey’s Let...       Darrell Lucus   \n",
       "1   1  FLYNN: Hillary Clinton, Big Woman on Campus - ...     Daniel J. Flynn   \n",
       "2   2                  Why the Truth Might Get You Fired  Consortiumnews.com   \n",
       "3   3  15 Civilians Killed In Single US Airstrike Hav...     Jessica Purkiss   \n",
       "4   4  Iranian woman jailed for fictional unpublished...      Howard Portnoy   \n",
       "\n",
       "                                                text  label  title_token  \\\n",
       "0  House Dem Aide: We Didn’t Even See Comey’s Let...      1         21.0   \n",
       "1  Ever get the feeling your life circles the rou...      0         13.5   \n",
       "2  Why the Truth Might Get You Fired October 29, ...      1         10.5   \n",
       "3  Videos 15 Civilians Killed In Single US Airstr...      1         15.0   \n",
       "4  Print \\nAn Iranian woman has been sentenced to...      1         21.0   \n",
       "\n",
       "   text_token  \n",
       "0      1230.0  \n",
       "1      1065.0  \n",
       "2      1899.0  \n",
       "3       835.5  \n",
       "4       231.0  "
      ]
     },
     "execution_count": 13,
     "metadata": {},
     "output_type": "execute_result"
    }
   ],
   "source": [
    "df['title_token'] = df['title'].apply(lambda x: (len(x.split()) * 1.5))\n",
    "df['text_token'] = df['text'].apply(lambda x: (len(x.split()) * 1.5))\n",
    "df.head()"
   ]
  },
  {
   "cell_type": "code",
   "execution_count": 14,
   "id": "28be86da-091a-4064-a82b-08101cab0323",
   "metadata": {},
   "outputs": [
    {
     "data": {
      "image/png": "[encoded data removed]",
      "text/plain": [
       "<Figure size 1500x500 with 2 Axes>"
      ]
     },
     "metadata": {},
     "output_type": "display_data"
    }
   ],
   "source": [
    "fig, ax = plt.subplots(1, 2, figsize=(15,5))\n",
    "\n",
    "ax[0].hist(df['title_token'], bins=20, color='skyblue')\n",
    "ax[1].hist(df['text_token'], bins=20, color='orange')\n",
    "\n",
    "ax[0].set_title(\"Title Token Distribution\")\n",
    "ax[1].set_title(\"Text Token Distribution\")\n",
    "\n",
    "plt.show()"
   ]
  },
  {
   "cell_type": "markdown",
   "id": "222ed62a-d25f-4063-a6af-2ff443e18fae",
   "metadata": {},
   "source": [
    "The text token has longer length so we will use the title for prediction."
   ]
  },
  {
   "cell_type": "code",
   "execution_count": 15,
   "id": "4f1dedf5-ce2b-44a1-9f21-86fbe75c6b95",
   "metadata": {},
   "outputs": [],
   "source": [
    "from sklearn.model_selection import train_test_split"
   ]
  },
  {
   "cell_type": "code",
   "execution_count": 16,
   "id": "b2a783bd-3f1d-4fb8-86c1-2939db98d05d",
   "metadata": {},
   "outputs": [
    {
     "data": {
      "text/plain": [
       "((12796, 7), (1828, 7), (3657, 7))"
      ]
     },
     "execution_count": 16,
     "metadata": {},
     "output_type": "execute_result"
    }
   ],
   "source": [
    "train, test = train_test_split(df, test_size=0.3, random_state=42, stratify=df['label'])\n",
    "validation, test = train_test_split(test, test_size=2/3, random_state=42, stratify=test['label'])\n",
    "\n",
    "train.shape, validation.shape, test.shape"
   ]
  },
  {
   "cell_type": "code",
   "execution_count": 17,
   "id": "a3d93bc5-542c-447d-a403-3daba17d86dd",
   "metadata": {},
   "outputs": [],
   "source": [
    "from datasets import Dataset, DatasetDict"
   ]
  },
  {
   "cell_type": "code",
   "execution_count": 18,
   "id": "91ad05e6-36cb-4c53-9532-fae3aa90fdaf",
   "metadata": {},
   "outputs": [
    {
     "data": {
      "text/plain": [
       "DatasetDict({\n",
       "    train: Dataset({\n",
       "        features: ['id', 'title', 'author', 'text', 'label', 'title_token', 'text_token'],\n",
       "        num_rows: 12796\n",
       "    })\n",
       "    validation: Dataset({\n",
       "        features: ['id', 'title', 'author', 'text', 'label', 'title_token', 'text_token'],\n",
       "        num_rows: 1828\n",
       "    })\n",
       "    test: Dataset({\n",
       "        features: ['id', 'title', 'author', 'text', 'label', 'title_token', 'text_token'],\n",
       "        num_rows: 3657\n",
       "    })\n",
       "})"
      ]
     },
     "execution_count": 18,
     "metadata": {},
     "output_type": "execute_result"
    }
   ],
   "source": [
    "dataset = DatasetDict(\n",
    "    {\n",
    "        'train': Dataset.from_pandas(train, preserve_index=False),\n",
    "        'validation': Dataset.from_pandas(validation, preserve_index=False),\n",
    "        'test': Dataset.from_pandas(test, preserve_index=False)\n",
    "    }\n",
    ")\n",
    "\n",
    "dataset"
   ]
  },
  {
   "cell_type": "code",
   "execution_count": 19,
   "id": "407aaa75-8ecc-403f-b501-5f9e55e6a78e",
   "metadata": {},
   "outputs": [
    {
     "data": {
      "text/plain": [
       "{'id': 3029,\n",
       " 'title': 'Fox News Poll: Clinton leads Trump by three points',\n",
       " 'author': 'admin',\n",
       " 'text': 'FoxNews.com October 27, 2016 \\nWith less than two weeks to go, the race for the White House has narrowed as Hillary Clinton now has a three-point advantage over Donald Trump. \\nThat’s within the margin of error of the national Fox News Poll of likely voters. \\nClinton is ahead of Trump by 44-41 percent. Another one-in-ten back a third-party candidate and four percent are undecided. Last week she was up by six points (45-39 percent) and before that by seven (45-38 percent). \\nThe poll, released Wednesday, finds Clinton leads 49-44 percent in the head-to-head matchup. That 5-point advantage is at the edge of the error margin. She was up 7 a week ago (49-42 percent). This article was posted: Thursday, October 27, 2016 at 6:33 am Share this article',\n",
       " 'label': 1,\n",
       " 'title_token': 13.5,\n",
       " 'text_token': 192.0}"
      ]
     },
     "execution_count": 19,
     "metadata": {},
     "output_type": "execute_result"
    }
   ],
   "source": [
    "dataset['train'][5]"
   ]
  },
  {
   "cell_type": "markdown",
   "id": "227ca760-a540-4311-a239-71c9ada1d6bc",
   "metadata": {},
   "source": [
    "## Tokenization"
   ]
  },
  {
   "cell_type": "code",
   "execution_count": 20,
   "id": "a6cf43b0-290a-4a04-8950-7ad8b1d6b783",
   "metadata": {},
   "outputs": [],
   "source": [
    "from transformers import AutoTokenizer"
   ]
  },
  {
   "cell_type": "code",
   "execution_count": 21,
   "id": "e9495ee6-0ade-4b1f-a95a-76435384b712",
   "metadata": {},
   "outputs": [],
   "source": [
    "text = \"I love machine learning! Tokenization is awesome!\"\n",
    "\n",
    "model_ckpt = \"distilbert/distilbert-base-uncased\"\n",
    "distilbert_tokenizer = AutoTokenizer.from_pretrained(model_ckpt)\n",
    "distilbert_tokens = distilbert_tokenizer(text)\n",
    "\n",
    "model_ckpt = \"google/mobilebert-uncased\"\n",
    "mobilebert_tokenizer = AutoTokenizer.from_pretrained(model_ckpt)\n",
    "mobilebert_tokens = mobilebert_tokenizer(text)\n",
    "\n",
    "model_ckpt = \"huawei-noah/TinyBERT_General_4L_312D\"\n",
    "tinybert_tokenizer = AutoTokenizer.from_pretrained(model_ckpt)\n",
    "tinybert_tokens = tinybert_tokenizer(text)"
   ]
  },
  {
   "cell_type": "code",
   "execution_count": 22,
   "id": "cf4dd3d3-3390-4972-bd5b-7ebb8f1f4a9a",
   "metadata": {},
   "outputs": [
    {
     "data": {
      "text/plain": [
       "({'input_ids': [101, 1045, 2293, 3698, 4083, 999, 19204, 3989, 2003, 12476, 999, 102], 'attention_mask': [1, 1, 1, 1, 1, 1, 1, 1, 1, 1, 1, 1]},\n",
       " {'input_ids': [101, 1045, 2293, 3698, 4083, 999, 19204, 3989, 2003, 12476, 999, 102], 'token_type_ids': [0, 0, 0, 0, 0, 0, 0, 0, 0, 0, 0, 0], 'attention_mask': [1, 1, 1, 1, 1, 1, 1, 1, 1, 1, 1, 1]},\n",
       " {'input_ids': [101, 1045, 2293, 3698, 4083, 999, 19204, 3989, 2003, 12476, 999, 102], 'token_type_ids': [0, 0, 0, 0, 0, 0, 0, 0, 0, 0, 0, 0], 'attention_mask': [1, 1, 1, 1, 1, 1, 1, 1, 1, 1, 1, 1]})"
      ]
     },
     "execution_count": 22,
     "metadata": {},
     "output_type": "execute_result"
    }
   ],
   "source": [
    "distilbert_tokens, mobilebert_tokens, tinybert_tokens"
   ]
  },
  {
   "cell_type": "markdown",
   "id": "6027ed94-80a7-4739-b562-8d252cc7f8c9",
   "metadata": {},
   "source": [
    "These three tokenizers give the same results so they are basically the same."
   ]
  },
  {
   "cell_type": "code",
   "execution_count": 23,
   "id": "a275c5c8-df6c-4eb7-9b00-3a3c99101d44",
   "metadata": {},
   "outputs": [
    {
     "data": {
      "text/plain": [
       "{'input_ids': [[101, 6221, 8398, 22577, 4769, 28667, 9331, 102], [101, 2006, 1996, 2769, 4446, 102, 0, 0]], 'attention_mask': [[1, 1, 1, 1, 1, 1, 1, 1], [1, 1, 1, 1, 1, 1, 0, 0]]}"
      ]
     },
     "execution_count": 23,
     "metadata": {},
     "output_type": "execute_result"
    }
   ],
   "source": [
    "def tokenize(batch):\n",
    "    temp = distilbert_tokenizer(batch['title'], padding=True, truncation=True)\n",
    "    return temp\n",
    "\n",
    "tokenize(dataset['train'][:2])"
   ]
  },
  {
   "cell_type": "code",
   "execution_count": 24,
   "id": "600af773-09b9-4aad-8270-3f9d7649617c",
   "metadata": {},
   "outputs": [
    {
     "name": "stderr",
     "output_type": "stream",
     "text": [
      "Map: 100%|██████████| 12796/12796 [00:01<00:00, 10432.58 examples/s]\n",
      "Map: 100%|██████████| 1828/1828 [00:00<00:00, 13129.71 examples/s]\n",
      "Map: 100%|██████████| 3657/3657 [00:00<00:00, 13756.79 examples/s]\n"
     ]
    }
   ],
   "source": [
    "dataset_encoded = dataset.map(tokenize, batched=True, batch_size=None)"
   ]
  },
  {
   "cell_type": "code",
   "execution_count": 25,
   "id": "a8f7c27c-3deb-411e-9804-ded1d13a0755",
   "metadata": {},
   "outputs": [
    {
     "data": {
      "text/plain": [
       "DatasetDict({\n",
       "    train: Dataset({\n",
       "        features: ['id', 'title', 'author', 'text', 'label', 'title_token', 'text_token', 'input_ids', 'attention_mask'],\n",
       "        num_rows: 12796\n",
       "    })\n",
       "    validation: Dataset({\n",
       "        features: ['id', 'title', 'author', 'text', 'label', 'title_token', 'text_token', 'input_ids', 'attention_mask'],\n",
       "        num_rows: 1828\n",
       "    })\n",
       "    test: Dataset({\n",
       "        features: ['id', 'title', 'author', 'text', 'label', 'title_token', 'text_token', 'input_ids', 'attention_mask'],\n",
       "        num_rows: 3657\n",
       "    })\n",
       "})"
      ]
     },
     "execution_count": 25,
     "metadata": {},
     "output_type": "execute_result"
    }
   ],
   "source": [
    "dataset_encoded"
   ]
  },
  {
   "cell_type": "markdown",
   "id": "1c983c32-b7fd-4e01-9c42-d3d2726a23a9",
   "metadata": {},
   "source": [
    "## Model"
   ]
  },
  {
   "cell_type": "markdown",
   "id": "cde78295-e815-4dbc-973a-f7b4b5162087",
   "metadata": {},
   "source": [
    "### Model building"
   ]
  },
  {
   "cell_type": "code",
   "execution_count": 26,
   "id": "a21773cb-1a58-4efb-930d-cb5801b503d0",
   "metadata": {},
   "outputs": [],
   "source": [
    "import torch\n",
    "from transformers import AutoModelForSequenceClassification, AutoConfig"
   ]
  },
  {
   "cell_type": "code",
   "execution_count": 27,
   "id": "eb92b07a-b2de-4178-8a9b-6d6a4abd1a3d",
   "metadata": {},
   "outputs": [],
   "source": [
    "label2id = {\"Real\": 0, \"Fake\": 1}\n",
    "id2label = {0: \"Real\", 1: \"Fake\"}"
   ]
  },
  {
   "cell_type": "code",
   "execution_count": 28,
   "id": "aab7f5f0-b21b-4d3e-9fd7-361b3b661a02",
   "metadata": {},
   "outputs": [
    {
     "name": "stderr",
     "output_type": "stream",
     "text": [
      "Some weights of DistilBertForSequenceClassification were not initialized from the model checkpoint at distilbert/distilbert-base-uncased and are newly initialized: ['classifier.bias', 'classifier.weight', 'pre_classifier.bias', 'pre_classifier.weight']\n",
      "You should probably TRAIN this model on a down-stream task to be able to use it for predictions and inference.\n"
     ]
    }
   ],
   "source": [
    "model_ckpt = \"distilbert/distilbert-base-uncased\"\n",
    "# model_ckpt = \"google/mobilebert-uncased\"\n",
    "# model_ckpt = \"huawei-noah/TinyBERT_General_4L_312D\"\n",
    "\n",
    "num_labels = len(label2id)\n",
    "device = torch.device('cuda' if torch.cuda.is_available() else 'cpu')\n",
    "config = AutoConfig.from_pretrained(model_ckpt, label2id=label2id, id2label=id2label)\n",
    "model = AutoModelForSequenceClassification.from_pretrained(model_ckpt, config=config).to(device)"
   ]
  },
  {
   "cell_type": "markdown",
   "id": "eb7c06e1-15ac-4755-88ab-87a031119d8d",
   "metadata": {},
   "source": [
    "### Define training arguments"
   ]
  },
  {
   "cell_type": "code",
   "execution_count": 29,
   "id": "01741f9a-ce40-4e6c-8be9-d424a68d54e5",
   "metadata": {},
   "outputs": [],
   "source": [
    "from transformers import TrainingArguments"
   ]
  },
  {
   "cell_type": "code",
   "execution_count": 30,
   "id": "cc7d2dc3-de95-4468-8e3a-917e89c0ad7b",
   "metadata": {},
   "outputs": [],
   "source": [
    "batch_size = 32\n",
    "training_dir = \"train_dir\"\n",
    "\n",
    "training_args = TrainingArguments(\n",
    "    output_dir=training_dir,\n",
    "    overwrite_output_dir=True,\n",
    "    num_train_epochs=2,\n",
    "    learning_rate=2e-5,\n",
    "    per_device_train_batch_size=batch_size,\n",
    "    per_device_eval_batch_size=batch_size,\n",
    "    weight_decay=0.01,\n",
    "    eval_strategy='epoch',\n",
    "    disable_tqdm=False,\n",
    "    seed=42\n",
    ")"
   ]
  },
  {
   "cell_type": "markdown",
   "id": "99ea111e-ab48-4e3d-bfb2-5b0b5f44a92d",
   "metadata": {},
   "source": [
    "### Define compute metrics function"
   ]
  },
  {
   "cell_type": "code",
   "execution_count": 31,
   "id": "eafe97f9-f1d6-4310-9fb0-187b54cd9d87",
   "metadata": {},
   "outputs": [],
   "source": [
    "import evaluate\n",
    "import numpy as np\n",
    "\n",
    "accuracy = evaluate.load(\"accuracy\")\n",
    "\n",
    "def compute_metrics_evaluate(eval_pred):\n",
    "    predictions, labels = eval_pred\n",
    "    predictions = np.argmax(predictions, axis=1)\n",
    "    return accuracy.compute(predictions=predictions, references=labels)"
   ]
  },
  {
   "cell_type": "markdown",
   "id": "85b1690a-be38-4dc4-b2ce-45e1f63baaec",
   "metadata": {},
   "source": [
    "### Train the model"
   ]
  },
  {
   "cell_type": "code",
   "execution_count": 32,
   "id": "f5baaf80-7954-44ea-8b96-4604d18b9116",
   "metadata": {},
   "outputs": [],
   "source": [
    "from transformers import Trainer"
   ]
  },
  {
   "cell_type": "code",
   "execution_count": 33,
   "id": "f8162662-b84e-48c5-ac39-d106ad9fb32f",
   "metadata": {},
   "outputs": [],
   "source": [
    "trainer = Trainer(model=model, args=training_args, \n",
    "                  compute_metrics=compute_metrics_evaluate, \n",
    "                  train_dataset=dataset_encoded['train'], \n",
    "                  eval_dataset=dataset_encoded['validation'], \n",
    "                  tokenizer=distilbert_tokenizer)"
   ]
  },
  {
   "cell_type": "code",
   "execution_count": 35,
   "id": "683239c0-0139-4a87-946f-2615ace47f75",
   "metadata": {},
   "outputs": [
    {
     "data": {
      "text/html": [
       "\n",
       "    <div>\n",
       "      \n",
       "      <progress value='800' max='800' style='width:300px; height:20px; vertical-align: middle;'></progress>\n",
       "      [800/800 01:10, Epoch 2/2]\n",
       "    </div>\n",
       "    <table border=\"1\" class=\"dataframe\">\n",
       "  <thead>\n",
       " <tr style=\"text-align: left;\">\n",
       "      <th>Epoch</th>\n",
       "      <th>Training Loss</th>\n",
       "      <th>Validation Loss</th>\n",
       "      <th>Accuracy</th>\n",
       "    </tr>\n",
       "  </thead>\n",
       "  <tbody>\n",
       "    <tr>\n",
       "      <td>1</td>\n",
       "      <td>No log</td>\n",
       "      <td>0.102349</td>\n",
       "      <td>0.966630</td>\n",
       "    </tr>\n",
       "    <tr>\n",
       "      <td>2</td>\n",
       "      <td>0.111000</td>\n",
       "      <td>0.119743</td>\n",
       "      <td>0.963895</td>\n",
       "    </tr>\n",
       "  </tbody>\n",
       "</table><p>"
      ],
      "text/plain": [
       "<IPython.core.display.HTML object>"
      ]
     },
     "metadata": {},
     "output_type": "display_data"
    },
    {
     "data": {
      "text/plain": [
       "TrainOutput(global_step=800, training_loss=0.09141470193862915, metrics={'train_runtime': 70.2831, 'train_samples_per_second': 364.127, 'train_steps_per_second': 11.383, 'total_flos': 766787537120256.0, 'train_loss': 0.09141470193862915, 'epoch': 2.0})"
      ]
     },
     "execution_count": 35,
     "metadata": {},
     "output_type": "execute_result"
    }
   ],
   "source": [
    "trainer.train()"
   ]
  },
  {
   "cell_type": "markdown",
   "id": "6e76ac8f-02fa-491c-82b7-57d975407326",
   "metadata": {},
   "source": [
    "### Model evaluation"
   ]
  },
  {
   "cell_type": "code",
   "execution_count": 36,
   "id": "1daecfad-3903-4a6f-aea6-c5d52421dd0e",
   "metadata": {},
   "outputs": [
    {
     "data": {
      "text/html": [],
      "text/plain": [
       "<IPython.core.display.HTML object>"
      ]
     },
     "metadata": {},
     "output_type": "display_data"
    },
    {
     "data": {
      "text/plain": [
       "{'test_loss': 0.12080024927854538,\n",
       " 'test_accuracy': 0.9595296691277003,\n",
       " 'test_runtime': 2.6743,\n",
       " 'test_samples_per_second': 1367.453,\n",
       " 'test_steps_per_second': 43.002}"
      ]
     },
     "execution_count": 36,
     "metadata": {},
     "output_type": "execute_result"
    }
   ],
   "source": [
    "preds_output = trainer.predict(dataset_encoded['test'])\n",
    "preds_output.metrics"
   ]
  },
  {
   "cell_type": "code",
   "execution_count": 37,
   "id": "9d3e42cb-7ba2-458b-ac90-2851fe499807",
   "metadata": {},
   "outputs": [
    {
     "data": {
      "text/plain": [
       "PredictionOutput(predictions=array([[-1.6946921,  1.6345402],\n",
       "       [ 3.9540267, -3.780521 ],\n",
       "       [-2.8567119,  3.0684023],\n",
       "       ...,\n",
       "       [ 3.3152168, -3.3889124],\n",
       "       [-2.6055603,  2.7708142],\n",
       "       [ 3.9490893, -3.77614  ]], shape=(3657, 2), dtype=float32), label_ids=array([1, 0, 1, ..., 0, 1, 0], shape=(3657,)), metrics={'test_loss': 0.12080024927854538, 'test_accuracy': 0.9595296691277003, 'test_runtime': 2.6743, 'test_samples_per_second': 1367.453, 'test_steps_per_second': 43.002})"
      ]
     },
     "execution_count": 37,
     "metadata": {},
     "output_type": "execute_result"
    }
   ],
   "source": [
    "preds_output"
   ]
  },
  {
   "cell_type": "code",
   "execution_count": 38,
   "id": "0f86d993-143b-463a-8c48-cf6c3fa1fdd6",
   "metadata": {},
   "outputs": [
    {
     "data": {
      "text/plain": [
       "[1, 0, 1, 1, 1]"
      ]
     },
     "execution_count": 38,
     "metadata": {},
     "output_type": "execute_result"
    }
   ],
   "source": [
    "y_pred = np.argmax(preds_output.predictions, axis=1)\n",
    "y_true = dataset_encoded['test'][:]['label']\n",
    "y_true[:5]"
   ]
  },
  {
   "cell_type": "code",
   "execution_count": 39,
   "id": "559171e3-c26c-46a2-9dd2-56166055f6d0",
   "metadata": {},
   "outputs": [
    {
     "name": "stdout",
     "output_type": "stream",
     "text": [
      "              precision    recall  f1-score   support\n",
      "\n",
      "           0       0.96      0.97      0.96      2073\n",
      "           1       0.96      0.95      0.95      1584\n",
      "\n",
      "    accuracy                           0.96      3657\n",
      "   macro avg       0.96      0.96      0.96      3657\n",
      "weighted avg       0.96      0.96      0.96      3657\n",
      "\n"
     ]
    }
   ],
   "source": [
    "from sklearn.metrics import classification_report\n",
    "\n",
    "print(classification_report(y_pred=y_pred, y_true=y_true))"
   ]
  },
  {
   "cell_type": "markdown",
   "id": "decf27e4-78b2-4470-97e2-f86ced764ea8",
   "metadata": {},
   "source": [
    "### Benchmarking"
   ]
  },
  {
   "cell_type": "code",
   "execution_count": 40,
   "id": "6d4e536d-05ef-4302-90e5-834932374a6a",
   "metadata": {},
   "outputs": [],
   "source": [
    "def train_model(model_name, model_ckpt):\n",
    "    tokenizer = AutoTokenizer.from_pretrained(model_ckpt)\n",
    "\n",
    "    def tokenize_local(batch):\n",
    "        temp = tokenizer(batch['title'], padding=True, truncation=True, max_length=512)\n",
    "        return temp\n",
    "        \n",
    "    dataset_encoded = dataset.map(tokenize_local, batched=True, batch_size=None)\n",
    "    \n",
    "    config = AutoConfig.from_pretrained(model_ckpt, label2id=label2id, id2label=id2label)\n",
    "    model = AutoModelForSequenceClassification.from_pretrained(model_ckpt, config=config).to(device)\n",
    "\n",
    "    trainer = Trainer(model=model, args=training_args, \n",
    "                  compute_metrics=compute_metrics_evaluate, \n",
    "                  train_dataset=dataset_encoded['train'], \n",
    "                  eval_dataset=dataset_encoded['validation'], \n",
    "                  tokenizer=distilbert_tokenizer)\n",
    "\n",
    "    trainer.train()\n",
    "    preds_output = trainer.predict(dataset_encoded['test'])\n",
    "    trainer.save_model(f\"fake_news_{model_name}\")\n",
    "    return preds_output.metrics"
   ]
  },
  {
   "cell_type": "code",
   "execution_count": 41,
   "id": "f4ae0d24-460e-48a0-9f31-95ca11e124a0",
   "metadata": {},
   "outputs": [],
   "source": [
    "import time"
   ]
  },
  {
   "cell_type": "code",
   "execution_count": 42,
   "id": "3f3009f0-cf54-443f-aeea-30496e0b9df0",
   "metadata": {},
   "outputs": [
    {
     "name": "stderr",
     "output_type": "stream",
     "text": [
      "Map: 100%|██████████| 12796/12796 [00:01<00:00, 10483.38 examples/s]\n",
      "Map: 100%|██████████| 1828/1828 [00:00<00:00, 13174.31 examples/s]\n",
      "Map: 100%|██████████| 3657/3657 [00:00<00:00, 6384.10 examples/s]\n",
      "Some weights of BertForSequenceClassification were not initialized from the model checkpoint at bert-base-uncased and are newly initialized: ['classifier.bias', 'classifier.weight']\n",
      "You should probably TRAIN this model on a down-stream task to be able to use it for predictions and inference.\n"
     ]
    },
    {
     "data": {
      "text/html": [
       "\n",
       "    <div>\n",
       "      \n",
       "      <progress value='800' max='800' style='width:300px; height:20px; vertical-align: middle;'></progress>\n",
       "      [800/800 02:19, Epoch 2/2]\n",
       "    </div>\n",
       "    <table border=\"1\" class=\"dataframe\">\n",
       "  <thead>\n",
       " <tr style=\"text-align: left;\">\n",
       "      <th>Epoch</th>\n",
       "      <th>Training Loss</th>\n",
       "      <th>Validation Loss</th>\n",
       "      <th>Accuracy</th>\n",
       "    </tr>\n",
       "  </thead>\n",
       "  <tbody>\n",
       "    <tr>\n",
       "      <td>1</td>\n",
       "      <td>No log</td>\n",
       "      <td>0.129426</td>\n",
       "      <td>0.950219</td>\n",
       "    </tr>\n",
       "    <tr>\n",
       "      <td>2</td>\n",
       "      <td>0.165200</td>\n",
       "      <td>0.135106</td>\n",
       "      <td>0.959519</td>\n",
       "    </tr>\n",
       "  </tbody>\n",
       "</table><p>"
      ],
      "text/plain": [
       "<IPython.core.display.HTML object>"
      ]
     },
     "metadata": {},
     "output_type": "display_data"
    },
    {
     "data": {
      "text/html": [],
      "text/plain": [
       "<IPython.core.display.HTML object>"
      ]
     },
     "metadata": {},
     "output_type": "display_data"
    },
    {
     "name": "stderr",
     "output_type": "stream",
     "text": [
      "Map: 100%|██████████| 12796/12796 [00:01<00:00, 12525.90 examples/s]\n",
      "Map: 100%|██████████| 1828/1828 [00:00<00:00, 13960.24 examples/s]\n",
      "Map: 100%|██████████| 3657/3657 [00:00<00:00, 14179.64 examples/s]\n",
      "Some weights of DistilBertForSequenceClassification were not initialized from the model checkpoint at distilbert/distilbert-base-uncased and are newly initialized: ['classifier.bias', 'classifier.weight', 'pre_classifier.bias', 'pre_classifier.weight']\n",
      "You should probably TRAIN this model on a down-stream task to be able to use it for predictions and inference.\n"
     ]
    },
    {
     "data": {
      "text/html": [
       "\n",
       "    <div>\n",
       "      \n",
       "      <progress value='800' max='800' style='width:300px; height:20px; vertical-align: middle;'></progress>\n",
       "      [800/800 01:12, Epoch 2/2]\n",
       "    </div>\n",
       "    <table border=\"1\" class=\"dataframe\">\n",
       "  <thead>\n",
       " <tr style=\"text-align: left;\">\n",
       "      <th>Epoch</th>\n",
       "      <th>Training Loss</th>\n",
       "      <th>Validation Loss</th>\n",
       "      <th>Accuracy</th>\n",
       "    </tr>\n",
       "  </thead>\n",
       "  <tbody>\n",
       "    <tr>\n",
       "      <td>1</td>\n",
       "      <td>No log</td>\n",
       "      <td>0.114794</td>\n",
       "      <td>0.961160</td>\n",
       "    </tr>\n",
       "    <tr>\n",
       "      <td>2</td>\n",
       "      <td>0.171100</td>\n",
       "      <td>0.118027</td>\n",
       "      <td>0.961707</td>\n",
       "    </tr>\n",
       "  </tbody>\n",
       "</table><p>"
      ],
      "text/plain": [
       "<IPython.core.display.HTML object>"
      ]
     },
     "metadata": {},
     "output_type": "display_data"
    },
    {
     "data": {
      "text/html": [],
      "text/plain": [
       "<IPython.core.display.HTML object>"
      ]
     },
     "metadata": {},
     "output_type": "display_data"
    },
    {
     "name": "stderr",
     "output_type": "stream",
     "text": [
      "Map: 100%|██████████| 12796/12796 [00:01<00:00, 10480.03 examples/s]\n",
      "Map: 100%|██████████| 1828/1828 [00:00<00:00, 11245.51 examples/s]\n",
      "Map: 100%|██████████| 3657/3657 [00:00<00:00, 11709.28 examples/s]\n",
      "Some weights of MobileBertForSequenceClassification were not initialized from the model checkpoint at google/mobilebert-uncased and are newly initialized: ['classifier.bias', 'classifier.weight']\n",
      "You should probably TRAIN this model on a down-stream task to be able to use it for predictions and inference.\n"
     ]
    },
    {
     "data": {
      "text/html": [
       "\n",
       "    <div>\n",
       "      \n",
       "      <progress value='800' max='800' style='width:300px; height:20px; vertical-align: middle;'></progress>\n",
       "      [800/800 02:39, Epoch 2/2]\n",
       "    </div>\n",
       "    <table border=\"1\" class=\"dataframe\">\n",
       "  <thead>\n",
       " <tr style=\"text-align: left;\">\n",
       "      <th>Epoch</th>\n",
       "      <th>Training Loss</th>\n",
       "      <th>Validation Loss</th>\n",
       "      <th>Accuracy</th>\n",
       "    </tr>\n",
       "  </thead>\n",
       "  <tbody>\n",
       "    <tr>\n",
       "      <td>1</td>\n",
       "      <td>No log</td>\n",
       "      <td>3806.122070</td>\n",
       "      <td>0.772976</td>\n",
       "    </tr>\n",
       "    <tr>\n",
       "      <td>2</td>\n",
       "      <td>9178.143000</td>\n",
       "      <td>195.401733</td>\n",
       "      <td>0.874179</td>\n",
       "    </tr>\n",
       "  </tbody>\n",
       "</table><p>"
      ],
      "text/plain": [
       "<IPython.core.display.HTML object>"
      ]
     },
     "metadata": {},
     "output_type": "display_data"
    },
    {
     "data": {
      "text/html": [],
      "text/plain": [
       "<IPython.core.display.HTML object>"
      ]
     },
     "metadata": {},
     "output_type": "display_data"
    },
    {
     "name": "stderr",
     "output_type": "stream",
     "text": [
      "Map: 100%|██████████| 12796/12796 [00:01<00:00, 9273.19 examples/s]\n",
      "Map: 100%|██████████| 1828/1828 [00:00<00:00, 10972.91 examples/s]\n",
      "Map: 100%|██████████| 3657/3657 [00:00<00:00, 11894.98 examples/s]\n",
      "Some weights of BertForSequenceClassification were not initialized from the model checkpoint at huawei-noah/TinyBERT_General_4L_312D and are newly initialized: ['classifier.bias', 'classifier.weight']\n",
      "You should probably TRAIN this model on a down-stream task to be able to use it for predictions and inference.\n"
     ]
    },
    {
     "data": {
      "text/html": [
       "\n",
       "    <div>\n",
       "      \n",
       "      <progress value='800' max='800' style='width:300px; height:20px; vertical-align: middle;'></progress>\n",
       "      [800/800 00:36, Epoch 2/2]\n",
       "    </div>\n",
       "    <table border=\"1\" class=\"dataframe\">\n",
       "  <thead>\n",
       " <tr style=\"text-align: left;\">\n",
       "      <th>Epoch</th>\n",
       "      <th>Training Loss</th>\n",
       "      <th>Validation Loss</th>\n",
       "      <th>Accuracy</th>\n",
       "    </tr>\n",
       "  </thead>\n",
       "  <tbody>\n",
       "    <tr>\n",
       "      <td>1</td>\n",
       "      <td>No log</td>\n",
       "      <td>0.192904</td>\n",
       "      <td>0.923961</td>\n",
       "    </tr>\n",
       "    <tr>\n",
       "      <td>2</td>\n",
       "      <td>0.281200</td>\n",
       "      <td>0.158039</td>\n",
       "      <td>0.939825</td>\n",
       "    </tr>\n",
       "  </tbody>\n",
       "</table><p>"
      ],
      "text/plain": [
       "<IPython.core.display.HTML object>"
      ]
     },
     "metadata": {},
     "output_type": "display_data"
    },
    {
     "data": {
      "text/html": [],
      "text/plain": [
       "<IPython.core.display.HTML object>"
      ]
     },
     "metadata": {},
     "output_type": "display_data"
    }
   ],
   "source": [
    "model_dict = {\n",
    "    \"BERT\": \"bert-base-uncased\",\n",
    "    \"DistilBERT\": \"distilbert/distilbert-base-uncased\",\n",
    "    \"MobileBERT\": \"google/mobilebert-uncased\",\n",
    "    \"TinyBERT\": \"huawei-noah/TinyBERT_General_4L_312D\"\n",
    "}\n",
    "\n",
    "model_performance = {}\n",
    "for model_name in model_dict:\n",
    "    start_time = time.time()\n",
    "    result = train_model(model_name, model_dict[model_name])\n",
    "    end_time = time.time()\n",
    "    result = {key: value for key, value in result.items() if key in ['test_loss', 'test_accuracy', 'test_runtime']}\n",
    "    result['train_runtime'] = end_time - start_time\n",
    "    model_performance[model_name] = result"
   ]
  },
  {
   "cell_type": "code",
   "execution_count": 44,
   "id": "72e88dda-844b-43b1-9e33-4e85744eb429",
   "metadata": {},
   "outputs": [
    {
     "data": {
      "text/html": [
       "<div>\n",
       "<style scoped>\n",
       "    .dataframe tbody tr th:only-of-type {\n",
       "        vertical-align: middle;\n",
       "    }\n",
       "\n",
       "    .dataframe tbody tr th {\n",
       "        vertical-align: top;\n",
       "    }\n",
       "\n",
       "    .dataframe thead th {\n",
       "        text-align: right;\n",
       "    }\n",
       "</style>\n",
       "<table border=\"1\" class=\"dataframe\">\n",
       "  <thead>\n",
       "    <tr style=\"text-align: right;\">\n",
       "      <th></th>\n",
       "      <th>BERT</th>\n",
       "      <th>DistilBERT</th>\n",
       "      <th>MobileBERT</th>\n",
       "      <th>TinyBERT</th>\n",
       "    </tr>\n",
       "  </thead>\n",
       "  <tbody>\n",
       "    <tr>\n",
       "      <th>test_loss</th>\n",
       "      <td>0.126215</td>\n",
       "      <td>0.116477</td>\n",
       "      <td>163.919830</td>\n",
       "      <td>0.169033</td>\n",
       "    </tr>\n",
       "    <tr>\n",
       "      <th>test_accuracy</th>\n",
       "      <td>0.959530</td>\n",
       "      <td>0.957069</td>\n",
       "      <td>0.868198</td>\n",
       "      <td>0.933826</td>\n",
       "    </tr>\n",
       "    <tr>\n",
       "      <th>test_runtime</th>\n",
       "      <td>5.230100</td>\n",
       "      <td>2.736100</td>\n",
       "      <td>4.513200</td>\n",
       "      <td>1.181300</td>\n",
       "    </tr>\n",
       "    <tr>\n",
       "      <th>train_runtime</th>\n",
       "      <td>149.811478</td>\n",
       "      <td>79.482980</td>\n",
       "      <td>170.509562</td>\n",
       "      <td>42.192666</td>\n",
       "    </tr>\n",
       "  </tbody>\n",
       "</table>\n",
       "</div>"
      ],
      "text/plain": [
       "                     BERT  DistilBERT  MobileBERT   TinyBERT\n",
       "test_loss        0.126215    0.116477  163.919830   0.169033\n",
       "test_accuracy    0.959530    0.957069    0.868198   0.933826\n",
       "test_runtime     5.230100    2.736100    4.513200   1.181300\n",
       "train_runtime  149.811478   79.482980  170.509562  42.192666"
      ]
     },
     "execution_count": 44,
     "metadata": {},
     "output_type": "execute_result"
    }
   ],
   "source": [
    "pd.DataFrame.from_dict(model_performance)"
   ]
  },
  {
   "cell_type": "markdown",
   "id": "407cd76f-aff5-473f-9e05-3ea285f117a6",
   "metadata": {},
   "source": [
    "The theory in the papers are proven from the results above. DistilBERT and TinyBERT achieve similar accuracy compared to BERT while the train and test runtime are faster. The only anomaly is the MobileBERT where it achieves significantly low accuracy and longer time."
   ]
  },
  {
   "cell_type": "markdown",
   "id": "5cbfb3eb-fa5c-4972-982d-4c11e965b691",
   "metadata": {},
   "source": [
    "### Predict with test data"
   ]
  },
  {
   "cell_type": "code",
   "execution_count": 48,
   "id": "4335b6ba-c568-4083-a1d3-9d52c55251e9",
   "metadata": {},
   "outputs": [
    {
     "data": {
      "text/plain": [
       "['Anthony Weiner rides through sex addiction rehab on a horse',\n",
       " 'In Major League Soccer, Argentines Find a Home and Success - The New York Times',\n",
       " 'MIND-BLOWING LIVE Facebook POLL comments show Trump winning 95%! (90k comments+) … This is PROOF we need if election is rigged.',\n",
       " \"If You Think No Other Politician Talked like Trump, Here are Other 'Donald Trumps' from America's Past\",\n",
       " 'Desecrating the Koran? Police Arrest 9-Year-Old Christian Boy, Torture Him for Days and Attempt to put Him on Death Row']"
      ]
     },
     "execution_count": 48,
     "metadata": {},
     "output_type": "execute_result"
    }
   ],
   "source": [
    "dataset['test'][:5]['title']"
   ]
  },
  {
   "cell_type": "code",
   "execution_count": 49,
   "id": "ac080b31-c89e-478e-8bde-3f599ee0b0d0",
   "metadata": {},
   "outputs": [
    {
     "name": "stderr",
     "output_type": "stream",
     "text": [
      "Device set to use cuda:0\n"
     ]
    },
    {
     "data": {
      "text/plain": [
       "[{'label': 'Fake', 'score': 0.8194633722305298},\n",
       " {'label': 'Real', 'score': 0.9992423057556152},\n",
       " {'label': 'Fake', 'score': 0.9958934783935547},\n",
       " {'label': 'Fake', 'score': 0.9955148100852966},\n",
       " {'label': 'Fake', 'score': 0.9918187856674194}]"
      ]
     },
     "execution_count": 49,
     "metadata": {},
     "output_type": "execute_result"
    }
   ],
   "source": [
    "from transformers import pipeline\n",
    "\n",
    "classifier = pipeline('text-classification', model='models/fake_news_DistilBERT')\n",
    "\n",
    "classifier(dataset['test'][:5]['title'])"
   ]
  },
  {
   "cell_type": "code",
   "execution_count": null,
   "id": "42ac3bfb-5313-45bf-a30e-a3717c6fd2b0",
   "metadata": {},
   "outputs": [],
   "source": []
  }
 ],
 "metadata": {
  "kernelspec": {
   "display_name": "Farrel (env)",
   "language": "python",
   "name": "farrelenv"
  },
  "language_info": {
   "codemirror_mode": {
    "name": "ipython",
    "version": 3
   },
   "file_extension": ".py",
   "mimetype": "text/x-python",
   "name": "python",
   "nbconvert_exporter": "python",
   "pygments_lexer": "ipython3",
   "version": "3.10.14"
  }
 },
 "nbformat": 4,
 "nbformat_minor": 5
}
