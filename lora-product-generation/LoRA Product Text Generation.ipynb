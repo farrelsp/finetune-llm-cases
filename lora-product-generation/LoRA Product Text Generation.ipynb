{
 "cells": [
  {
   "cell_type": "markdown",
   "id": "42de9341-d0ce-4efd-8acc-64efc3e9247a",
   "metadata": {},
   "source": [
    "# Product Text Generation with Phi2 + LoRA"
   ]
  },
  {
   "cell_type": "markdown",
   "id": "296cf7c4-253a-44fb-99b7-0a5947e98740",
   "metadata": {},
   "source": [
    "The model will generate product name and product description based on the input category."
   ]
  },
  {
   "cell_type": "code",
   "execution_count": 1,
   "id": "8d261233-03fe-430e-b45b-a170d6fc8dbc",
   "metadata": {},
   "outputs": [],
   "source": [
    "import os\n",
    "os.environ[\"CUDA_VISIBLE_DEVICES\"] = \"0\""
   ]
  },
  {
   "cell_type": "code",
   "execution_count": 2,
   "id": "860f2ab0-f646-45fd-89ce-0687f8600f7d",
   "metadata": {},
   "outputs": [],
   "source": [
    "import warnings\n",
    "warnings.filterwarnings('ignore')"
   ]
  },
  {
   "cell_type": "code",
   "execution_count": 3,
   "id": "72fc7801-61de-4308-bd1d-448e249bd668",
   "metadata": {},
   "outputs": [],
   "source": [
    "import pandas as pd\n",
    "\n",
    "df = pd.read_csv(\"datasets/amazon_product_details.csv\")"
   ]
  },
  {
   "cell_type": "code",
   "execution_count": 4,
   "id": "4291b556-8771-4aeb-ab13-2d568375a266",
   "metadata": {},
   "outputs": [
    {
     "data": {
      "text/plain": [
       "Index(['product_id', 'product_name', 'category', 'discounted_price',\n",
       "       'actual_price', 'discount_percentage', 'rating', 'rating_count',\n",
       "       'about_product', 'user_id', 'user_name', 'review_id', 'review_title',\n",
       "       'review_content', 'img_link', 'product_link'],\n",
       "      dtype='object')"
      ]
     },
     "execution_count": 4,
     "metadata": {},
     "output_type": "execute_result"
    }
   ],
   "source": [
    "df.columns"
   ]
  },
  {
   "cell_type": "code",
   "execution_count": 5,
   "id": "ff8caa22-b435-47b2-9e39-b715ad391a0a",
   "metadata": {},
   "outputs": [
    {
     "data": {
      "text/html": [
       "<div>\n",
       "<style scoped>\n",
       "    .dataframe tbody tr th:only-of-type {\n",
       "        vertical-align: middle;\n",
       "    }\n",
       "\n",
       "    .dataframe tbody tr th {\n",
       "        vertical-align: top;\n",
       "    }\n",
       "\n",
       "    .dataframe thead th {\n",
       "        text-align: right;\n",
       "    }\n",
       "</style>\n",
       "<table border=\"1\" class=\"dataframe\">\n",
       "  <thead>\n",
       "    <tr style=\"text-align: right;\">\n",
       "      <th></th>\n",
       "      <th>product_name</th>\n",
       "      <th>category</th>\n",
       "      <th>about_product</th>\n",
       "    </tr>\n",
       "  </thead>\n",
       "  <tbody>\n",
       "    <tr>\n",
       "      <th>0</th>\n",
       "      <td>Wayona Nylon Braided USB to Lightning Fast Cha...</td>\n",
       "      <td>Computers&amp;Accessories|Accessories&amp;Peripherals|...</td>\n",
       "      <td>High Compatibility : Compatible With iPhone 12...</td>\n",
       "    </tr>\n",
       "    <tr>\n",
       "      <th>1</th>\n",
       "      <td>Ambrane Unbreakable 60W / 3A Fast Charging 1.5...</td>\n",
       "      <td>Computers&amp;Accessories|Accessories&amp;Peripherals|...</td>\n",
       "      <td>Compatible with all Type C enabled devices, be...</td>\n",
       "    </tr>\n",
       "    <tr>\n",
       "      <th>2</th>\n",
       "      <td>Sounce Fast Phone Charging Cable &amp; Data Sync U...</td>\n",
       "      <td>Computers&amp;Accessories|Accessories&amp;Peripherals|...</td>\n",
       "      <td>【 Fast Charger&amp; Data Sync】-With built-in safet...</td>\n",
       "    </tr>\n",
       "    <tr>\n",
       "      <th>3</th>\n",
       "      <td>boAt Deuce USB 300 2 in 1 Type-C &amp; Micro USB S...</td>\n",
       "      <td>Computers&amp;Accessories|Accessories&amp;Peripherals|...</td>\n",
       "      <td>The boAt Deuce USB 300 2 in 1 cable is compati...</td>\n",
       "    </tr>\n",
       "    <tr>\n",
       "      <th>4</th>\n",
       "      <td>Portronics Konnect L 1.2M Fast Charging 3A 8 P...</td>\n",
       "      <td>Computers&amp;Accessories|Accessories&amp;Peripherals|...</td>\n",
       "      <td>[CHARGE &amp; SYNC FUNCTION]- This cable comes wit...</td>\n",
       "    </tr>\n",
       "  </tbody>\n",
       "</table>\n",
       "</div>"
      ],
      "text/plain": [
       "                                        product_name  \\\n",
       "0  Wayona Nylon Braided USB to Lightning Fast Cha...   \n",
       "1  Ambrane Unbreakable 60W / 3A Fast Charging 1.5...   \n",
       "2  Sounce Fast Phone Charging Cable & Data Sync U...   \n",
       "3  boAt Deuce USB 300 2 in 1 Type-C & Micro USB S...   \n",
       "4  Portronics Konnect L 1.2M Fast Charging 3A 8 P...   \n",
       "\n",
       "                                            category  \\\n",
       "0  Computers&Accessories|Accessories&Peripherals|...   \n",
       "1  Computers&Accessories|Accessories&Peripherals|...   \n",
       "2  Computers&Accessories|Accessories&Peripherals|...   \n",
       "3  Computers&Accessories|Accessories&Peripherals|...   \n",
       "4  Computers&Accessories|Accessories&Peripherals|...   \n",
       "\n",
       "                                       about_product  \n",
       "0  High Compatibility : Compatible With iPhone 12...  \n",
       "1  Compatible with all Type C enabled devices, be...  \n",
       "2  【 Fast Charger& Data Sync】-With built-in safet...  \n",
       "3  The boAt Deuce USB 300 2 in 1 cable is compati...  \n",
       "4  [CHARGE & SYNC FUNCTION]- This cable comes wit...  "
      ]
     },
     "execution_count": 5,
     "metadata": {},
     "output_type": "execute_result"
    }
   ],
   "source": [
    "# We only use three columns: product name, description, category\n",
    "df = df.loc[:, ['product_name', 'category', 'about_product']]\n",
    "df.head()"
   ]
  },
  {
   "cell_type": "markdown",
   "id": "0ca45840-42ef-4664-949c-d304de9669ac",
   "metadata": {},
   "source": [
    "## Data preprocessing"
   ]
  },
  {
   "cell_type": "code",
   "execution_count": 6,
   "id": "5b2fbfd6-b259-4179-8518-1bf6c7616ad3",
   "metadata": {},
   "outputs": [
    {
     "data": {
      "text/plain": [
       "category\n",
       "USBCables               233\n",
       "SmartWatches             76\n",
       "Smartphones              68\n",
       "SmartTelevisions         63\n",
       "In-Ear                   52\n",
       "                       ... \n",
       "RotiMakers                1\n",
       "FanParts&Accessories      1\n",
       "StandMixers               1\n",
       "PedestalFans              1\n",
       "HandheldBags              1\n",
       "Name: count, Length: 207, dtype: int64"
      ]
     },
     "execution_count": 6,
     "metadata": {},
     "output_type": "execute_result"
    }
   ],
   "source": [
    "# We want to extract only one category from the category column, we split it and we take the last el\n",
    "df['category'] = df['category'].apply(lambda x: x.split('|')[-1])\n",
    "df['category'].value_counts()"
   ]
  },
  {
   "cell_type": "code",
   "execution_count": 7,
   "id": "c835451f-1c71-4bc9-a46d-c44303acd98d",
   "metadata": {},
   "outputs": [
    {
     "data": {
      "text/html": [
       "<div>\n",
       "<style scoped>\n",
       "    .dataframe tbody tr th:only-of-type {\n",
       "        vertical-align: middle;\n",
       "    }\n",
       "\n",
       "    .dataframe tbody tr th {\n",
       "        vertical-align: top;\n",
       "    }\n",
       "\n",
       "    .dataframe thead th {\n",
       "        text-align: right;\n",
       "    }\n",
       "</style>\n",
       "<table border=\"1\" class=\"dataframe\">\n",
       "  <thead>\n",
       "    <tr style=\"text-align: right;\">\n",
       "      <th></th>\n",
       "      <th>category</th>\n",
       "      <th>text</th>\n",
       "      <th>task_type</th>\n",
       "    </tr>\n",
       "  </thead>\n",
       "  <tbody>\n",
       "    <tr>\n",
       "      <th>0</th>\n",
       "      <td>USBCables</td>\n",
       "      <td>Wayona Nylon Braided USB to Lightning Fast Cha...</td>\n",
       "      <td>Product Name</td>\n",
       "    </tr>\n",
       "    <tr>\n",
       "      <th>1</th>\n",
       "      <td>USBCables</td>\n",
       "      <td>Ambrane Unbreakable 60W / 3A Fast Charging 1.5...</td>\n",
       "      <td>Product Name</td>\n",
       "    </tr>\n",
       "    <tr>\n",
       "      <th>2</th>\n",
       "      <td>USBCables</td>\n",
       "      <td>Sounce Fast Phone Charging Cable &amp; Data Sync U...</td>\n",
       "      <td>Product Name</td>\n",
       "    </tr>\n",
       "    <tr>\n",
       "      <th>3</th>\n",
       "      <td>USBCables</td>\n",
       "      <td>boAt Deuce USB 300 2 in 1 Type-C &amp; Micro USB S...</td>\n",
       "      <td>Product Name</td>\n",
       "    </tr>\n",
       "    <tr>\n",
       "      <th>4</th>\n",
       "      <td>USBCables</td>\n",
       "      <td>Portronics Konnect L 1.2M Fast Charging 3A 8 P...</td>\n",
       "      <td>Product Name</td>\n",
       "    </tr>\n",
       "    <tr>\n",
       "      <th>...</th>\n",
       "      <td>...</td>\n",
       "      <td>...</td>\n",
       "      <td>...</td>\n",
       "    </tr>\n",
       "    <tr>\n",
       "      <th>1460</th>\n",
       "      <td>WaterPurifierAccessories</td>\n",
       "      <td>SUPREME QUALITY 90 GRAM 3 LAYER THIK PP SPUN F...</td>\n",
       "      <td>Product Description</td>\n",
       "    </tr>\n",
       "    <tr>\n",
       "      <th>1461</th>\n",
       "      <td>Rice&amp;PastaCookers</td>\n",
       "      <td>230 Volts, 400 watts, 1 Year</td>\n",
       "      <td>Product Description</td>\n",
       "    </tr>\n",
       "    <tr>\n",
       "      <th>1462</th>\n",
       "      <td>HeatConvectors</td>\n",
       "      <td>International design and styling|Two heat sett...</td>\n",
       "      <td>Product Description</td>\n",
       "    </tr>\n",
       "    <tr>\n",
       "      <th>1463</th>\n",
       "      <td>ExhaustFans</td>\n",
       "      <td>Fan sweep area: 230 MM ; Noise level: (40 - 45...</td>\n",
       "      <td>Product Description</td>\n",
       "    </tr>\n",
       "    <tr>\n",
       "      <th>1464</th>\n",
       "      <td>SandwichMakers</td>\n",
       "      <td>Brand-Borosil, Specification â€“ 23V ~ 5Hz;1 W...</td>\n",
       "      <td>Product Description</td>\n",
       "    </tr>\n",
       "  </tbody>\n",
       "</table>\n",
       "<p>2930 rows × 3 columns</p>\n",
       "</div>"
      ],
      "text/plain": [
       "                      category  \\\n",
       "0                    USBCables   \n",
       "1                    USBCables   \n",
       "2                    USBCables   \n",
       "3                    USBCables   \n",
       "4                    USBCables   \n",
       "...                        ...   \n",
       "1460  WaterPurifierAccessories   \n",
       "1461         Rice&PastaCookers   \n",
       "1462            HeatConvectors   \n",
       "1463               ExhaustFans   \n",
       "1464            SandwichMakers   \n",
       "\n",
       "                                                   text            task_type  \n",
       "0     Wayona Nylon Braided USB to Lightning Fast Cha...         Product Name  \n",
       "1     Ambrane Unbreakable 60W / 3A Fast Charging 1.5...         Product Name  \n",
       "2     Sounce Fast Phone Charging Cable & Data Sync U...         Product Name  \n",
       "3     boAt Deuce USB 300 2 in 1 Type-C & Micro USB S...         Product Name  \n",
       "4     Portronics Konnect L 1.2M Fast Charging 3A 8 P...         Product Name  \n",
       "...                                                 ...                  ...  \n",
       "1460  SUPREME QUALITY 90 GRAM 3 LAYER THIK PP SPUN F...  Product Description  \n",
       "1461                       230 Volts, 400 watts, 1 Year  Product Description  \n",
       "1462  International design and styling|Two heat sett...  Product Description  \n",
       "1463  Fan sweep area: 230 MM ; Noise level: (40 - 45...  Product Description  \n",
       "1464  Brand-Borosil, Specification â€“ 23V ~ 5Hz;1 W...  Product Description  \n",
       "\n",
       "[2930 rows x 3 columns]"
      ]
     },
     "execution_count": 7,
     "metadata": {},
     "output_type": "execute_result"
    }
   ],
   "source": [
    "# We want to change the dataset to be category, text, task type\n",
    "# The text will be the product name and product description\n",
    "# The task type will be the type of text: product name / product description\n",
    "\n",
    "products = df[['category', 'product_name']].rename(columns={'product_name': 'text'})\n",
    "descriptions = df[['category', 'about_product']].rename(columns={'about_product': 'text'})\n",
    "\n",
    "products['task_type'] = \"Product Name\"\n",
    "descriptions['task_type'] = \"Product Description\"\n",
    "\n",
    "df = pd.concat([products, descriptions])\n",
    "df"
   ]
  },
  {
   "cell_type": "markdown",
   "id": "9cedffd9-99ac-4931-9ca9-a60c7d3e8907",
   "metadata": {},
   "source": [
    "## Dataset analysis\n",
    "We use histogram to find suitable maximum token length to fasten the finetuning process. Assume each word equal to 1.5 tokens."
   ]
  },
  {
   "cell_type": "code",
   "execution_count": 8,
   "id": "61c4866c-301e-4ac6-bec6-c3a6de933fea",
   "metadata": {},
   "outputs": [],
   "source": [
    "products['text_len'] = products['text'].apply(lambda x: len(x.split()) * 1.5)\n",
    "descriptions['text_len'] = descriptions['text'].apply(lambda x: len(x.split()) * 1.5)"
   ]
  },
  {
   "cell_type": "code",
   "execution_count": 9,
   "id": "581fc1b2-eb93-488d-ad26-1307afb5b120",
   "metadata": {},
   "outputs": [],
   "source": [
    "import matplotlib.pyplot as plt"
   ]
  },
  {
   "cell_type": "code",
   "execution_count": 10,
   "id": "ae36f58d-6d32-4aa1-a54a-553d96aebd80",
   "metadata": {
    "scrolled": true
   },
   "outputs": [
    {
     "data": {
      "image/png": "[encoded data removed]",
      "text/plain": [
       "<Figure size 640x480 with 1 Axes>"
      ]
     },
     "metadata": {},
     "output_type": "display_data"
    }
   ],
   "source": [
    "products.hist()\n",
    "plt.title('Token Length Distribution in Product Name')\n",
    "plt.xlabel('Token length')\n",
    "plt.ylabel('Frequency')\n",
    "plt.show()"
   ]
  },
  {
   "cell_type": "code",
   "execution_count": 11,
   "id": "d4be1f20-cd23-43f1-adf5-94c425b3d523",
   "metadata": {
    "scrolled": true
   },
   "outputs": [
    {
     "data": {
      "image/png": "[encoded data removed]",
      "text/plain": [
       "<Figure size 640x480 with 1 Axes>"
      ]
     },
     "metadata": {},
     "output_type": "display_data"
    }
   ],
   "source": [
    "descriptions.hist()\n",
    "plt.title('Token Length Distribution in Product Description')\n",
    "plt.xlabel('Token length')\n",
    "plt.ylabel('Frequency')\n",
    "plt.show()"
   ]
  },
  {
   "cell_type": "markdown",
   "id": "dc1e17ad-f94e-494e-abe2-ae55e7b916d5",
   "metadata": {
    "jp-MarkdownHeadingCollapsed": true
   },
   "source": [
    "It is right to set 400 as the maximum token input length."
   ]
  },
  {
   "cell_type": "markdown",
   "id": "788ee0b8-925f-4a5d-9e10-d5e9ac53dd0d",
   "metadata": {},
   "source": [
    "## Split dataset"
   ]
  },
  {
   "cell_type": "code",
   "execution_count": 12,
   "id": "14b3bf35-b30e-445d-a80d-55fc665e1511",
   "metadata": {},
   "outputs": [],
   "source": [
    "from sklearn.model_selection import train_test_split"
   ]
  },
  {
   "cell_type": "code",
   "execution_count": 13,
   "id": "ea3861ff-0fc0-44d2-885b-fe598b031707",
   "metadata": {},
   "outputs": [
    {
     "data": {
      "text/plain": [
       "((2344, 3), (293, 3), (293, 3))"
      ]
     },
     "execution_count": 13,
     "metadata": {},
     "output_type": "execute_result"
    }
   ],
   "source": [
    "train, test = train_test_split(df, test_size=0.2, random_state=42)\n",
    "val, test = train_test_split(test, test_size=0.5, random_state=42)\n",
    "\n",
    "train.shape, val.shape, test.shape"
   ]
  },
  {
   "cell_type": "code",
   "execution_count": 14,
   "id": "f4d3327d-c04a-451f-8f32-713b98c28e5e",
   "metadata": {},
   "outputs": [],
   "source": [
    "from datasets import Dataset, DatasetDict"
   ]
  },
  {
   "cell_type": "code",
   "execution_count": 15,
   "id": "c1cecc76-dbeb-4de4-81a6-eb0f429ec158",
   "metadata": {},
   "outputs": [
    {
     "data": {
      "text/plain": [
       "DatasetDict({\n",
       "    train: Dataset({\n",
       "        features: ['category', 'text', 'task_type'],\n",
       "        num_rows: 2344\n",
       "    })\n",
       "    validation: Dataset({\n",
       "        features: ['category', 'text', 'task_type'],\n",
       "        num_rows: 293\n",
       "    })\n",
       "    test: Dataset({\n",
       "        features: ['category', 'text', 'task_type'],\n",
       "        num_rows: 293\n",
       "    })\n",
       "})"
      ]
     },
     "execution_count": 15,
     "metadata": {},
     "output_type": "execute_result"
    }
   ],
   "source": [
    "dataset = DatasetDict(\n",
    "    {\n",
    "        'train': Dataset.from_pandas(train, preserve_index=False),\n",
    "        'validation': Dataset.from_pandas(val, preserve_index=False),\n",
    "        'test': Dataset.from_pandas(test, preserve_index=False),\n",
    "    }\n",
    ")\n",
    "\n",
    "dataset"
   ]
  },
  {
   "cell_type": "code",
   "execution_count": 16,
   "id": "3e7295cf-a8fb-4eec-ab8e-a7f395cb8517",
   "metadata": {},
   "outputs": [
    {
     "data": {
      "text/plain": [
       "{'category': 'In-Ear',\n",
       " 'text': 'Boult Audio FXCharge with ENC, 32H Playtime, 5min=7H Type C Fast Charging, Zen ENC, 14.2 mm BoomX Rich Bass, IPX5, Bluetooth Wireless in Ear Earphones Neckband with mic (Black)',\n",
       " 'task_type': 'Product Name'}"
      ]
     },
     "execution_count": 16,
     "metadata": {},
     "output_type": "execute_result"
    }
   ],
   "source": [
    "dataset['train'][100]"
   ]
  },
  {
   "cell_type": "code",
   "execution_count": 17,
   "id": "b31f34db-1ffb-48a9-b01d-19f6cabdb300",
   "metadata": {},
   "outputs": [],
   "source": [
    "def formatting(example):\n",
    "    text = f\"\"\"\n",
    "Given the product category, you need to generate a '{example['task_type']}'.\n",
    "### Category: {example['category']}\n",
    "### {example['task_type']}: {example['text']}\n",
    "\"\"\"\n",
    "    return text"
   ]
  },
  {
   "cell_type": "code",
   "execution_count": 18,
   "id": "72a114c3-5879-4a10-ae47-1c9485fff72f",
   "metadata": {},
   "outputs": [
    {
     "name": "stdout",
     "output_type": "stream",
     "text": [
      "\n",
      "Given the product category, you need to generate a 'Product Name'.\n",
      "### Category: Smartphones\n",
      "### Product Name: Redmi 10A (Slate Grey, 4GB RAM, 64GB Storage) | 2 Ghz Octa Core Helio G25 | 5000 mAh Battery | Finger Print Sensor | Upto 5GB RAM with RAM Booster\n",
      "\n"
     ]
    }
   ],
   "source": [
    "print(formatting(dataset['train'][0]))"
   ]
  },
  {
   "cell_type": "code",
   "execution_count": 19,
   "id": "7141450e-631f-4a2d-9119-757b333f5f15",
   "metadata": {},
   "outputs": [],
   "source": [
    "from datasets import Dataset, DatasetDict"
   ]
  },
  {
   "cell_type": "code",
   "execution_count": 20,
   "id": "0506b26d-c7fb-492c-819f-4ba57d4d954d",
   "metadata": {},
   "outputs": [],
   "source": [
    "dataset = DatasetDict(\n",
    "    {\n",
    "        \"train\": Dataset.from_pandas(train, preserve_index=False),\n",
    "        \"val\": Dataset.from_pandas(val, preserve_index=False),\n",
    "        \"test\": Dataset.from_pandas(test, preserve_index=False),\n",
    "    }\n",
    ")"
   ]
  },
  {
   "cell_type": "code",
   "execution_count": 21,
   "id": "0a6165c2-8468-46ee-ad3d-fb5f6091dc7a",
   "metadata": {},
   "outputs": [
    {
     "data": {
      "text/plain": [
       "DatasetDict({\n",
       "    train: Dataset({\n",
       "        features: ['category', 'text', 'task_type'],\n",
       "        num_rows: 2344\n",
       "    })\n",
       "    val: Dataset({\n",
       "        features: ['category', 'text', 'task_type'],\n",
       "        num_rows: 293\n",
       "    })\n",
       "    test: Dataset({\n",
       "        features: ['category', 'text', 'task_type'],\n",
       "        num_rows: 293\n",
       "    })\n",
       "})"
      ]
     },
     "execution_count": 21,
     "metadata": {},
     "output_type": "execute_result"
    }
   ],
   "source": [
    "dataset"
   ]
  },
  {
   "cell_type": "code",
   "execution_count": 22,
   "id": "53841626-7bf7-4f3b-8a9f-c989dbf98366",
   "metadata": {},
   "outputs": [
    {
     "data": {
      "text/plain": [
       "{'category': 'Cradles',\n",
       " 'text': 'WeCool C1 Car Mobile Holder with One Click Technology,360° Rotational, Strong Suction Cup,Compatible with 4 to 6 Inch Devices, Wildshield and Dashboard Mobile Holder for Car, and Use',\n",
       " 'task_type': 'Product Name'}"
      ]
     },
     "execution_count": 22,
     "metadata": {},
     "output_type": "execute_result"
    }
   ],
   "source": [
    "dataset['test'][2]"
   ]
  },
  {
   "cell_type": "markdown",
   "id": "6acca4dc-9aac-41d0-b4c6-5ad559b8b033",
   "metadata": {},
   "source": [
    "## Data formatting"
   ]
  },
  {
   "cell_type": "code",
   "execution_count": 23,
   "id": "65fba41a-5675-4a2d-b27c-9a5c15b8cddb",
   "metadata": {},
   "outputs": [],
   "source": [
    "# We format the input as below so that the model can understand the instruction\n",
    "def formatting(example):\n",
    "    text = f\"\"\"\n",
    "Given the product category, you need to generate a '{example['task_type']}'.\n",
    "### Category: {example['category']} \n",
    "### {example['task_type']}: {example['text']}\n",
    "\"\"\"\n",
    "    return text"
   ]
  },
  {
   "cell_type": "code",
   "execution_count": 24,
   "id": "6acec075-6c42-464f-ae6e-4370b4220465",
   "metadata": {},
   "outputs": [
    {
     "name": "stdout",
     "output_type": "stream",
     "text": [
      "\n",
      "Given the product category, you need to generate a 'Product Name'.\n",
      "### Category: Smartphones \n",
      "### Product Name: Redmi 10A (Slate Grey, 4GB RAM, 64GB Storage) | 2 Ghz Octa Core Helio G25 | 5000 mAh Battery | Finger Print Sensor | Upto 5GB RAM with RAM Booster\n",
      "\n"
     ]
    }
   ],
   "source": [
    "print(formatting(dataset['train'][0]))"
   ]
  },
  {
   "cell_type": "markdown",
   "id": "e1efd4e8-799a-4777-bc84-367123faf284",
   "metadata": {},
   "source": [
    "## Load base model and tokenizer"
   ]
  },
  {
   "cell_type": "code",
   "execution_count": 25,
   "id": "b074dfd8-a417-4ba0-9141-34bdb71fa8ba",
   "metadata": {},
   "outputs": [],
   "source": [
    "import torch\n",
    "\n",
    "device = torch.device(\"cuda\" if torch.cuda.is_available() else \"cpu\")"
   ]
  },
  {
   "cell_type": "code",
   "execution_count": 26,
   "id": "5f2fe3a6-52a9-424a-b932-000531ae24a0",
   "metadata": {},
   "outputs": [
    {
     "name": "stderr",
     "output_type": "stream",
     "text": [
      "Loading checkpoint shards: 100%|██████████| 2/2 [00:00<00:00, 15.32it/s]\n"
     ]
    }
   ],
   "source": [
    "from transformers import AutoModelForCausalLM\n",
    "\n",
    "model_ckpt = \"microsoft/phi-2\"\n",
    "model = AutoModelForCausalLM.from_pretrained(model_ckpt,\n",
    "                                            trust_remote_code=True,\n",
    "                                            torch_dtype=torch.float16,\n",
    "                                            ).to(device)"
   ]
  },
  {
   "cell_type": "code",
   "execution_count": 27,
   "id": "565a6ab5-0685-4ca4-a0a2-926f23d753a5",
   "metadata": {},
   "outputs": [],
   "source": [
    "from transformers import AutoTokenizer\n",
    "\n",
    "tokenizer = AutoTokenizer.from_pretrained(model_ckpt,\n",
    "                                         padding_size='left',\n",
    "                                         add_bos=True,\n",
    "                                         add_eos=True,\n",
    "                                         use_fast=False)\n",
    "\n",
    "tokenizer.pad_token = tokenizer.eos_token"
   ]
  },
  {
   "cell_type": "code",
   "execution_count": 28,
   "id": "7ebc61c0-9d50-4de2-aa60-95bb0c2df020",
   "metadata": {},
   "outputs": [],
   "source": [
    "max_length = 400"
   ]
  },
  {
   "cell_type": "code",
   "execution_count": 29,
   "id": "c360506f-8549-4669-ade3-89e4194a0d68",
   "metadata": {},
   "outputs": [],
   "source": [
    "def tokenize(prompt):\n",
    "    result = tokenizer(formatting(prompt), \n",
    "                       max_length=max_length, \n",
    "                       padding='max_length', \n",
    "                       truncation=True\n",
    "                      )\n",
    "    result['labels'] = result['input_ids'].copy()\n",
    "    return result"
   ]
  },
  {
   "cell_type": "code",
   "execution_count": 30,
   "id": "14d390ec-6cfd-4104-9c3a-1660c2334462",
   "metadata": {},
   "outputs": [
    {
     "data": {
      "text/plain": [
       "{'input_ids': [198, 15056, 262, 1720, 6536, 11, 345, 761, 284, 7716, 257, 705, 15667, 6530, 4458, 198, 21017, 21743, 25, 10880, 9708, 220, 198, 21017, 8721, 6530, 25, 2297, 11632, 838, 32, 357, 11122, 378, 13980, 11, 604, 4579, 13931, 11, 5598, 4579, 20514, 8, 930, 362, 11972, 89, 2556, 64, 7231, 5053, 952, 402, 1495, 930, 23336, 285, 10910, 23490, 930, 39454, 12578, 35367, 930, 471, 457, 78, 642, 4579, 13931, 351, 13931, 35203, 198, 50256, 50256, 50256, 50256, 50256, 50256, 50256, 50256, 50256, 50256, 50256, 50256, 50256, 50256, 50256, 50256, 50256, 50256, 50256, 50256, 50256, 50256, 50256, 50256, 50256, 50256, 50256, 50256, 50256, 50256, 50256, 50256, 50256, 50256, 50256, 50256, 50256, 50256, 50256, 50256, 50256, 50256, 50256, 50256, 50256, 50256, 50256, 50256, 50256, 50256, 50256, 50256, 50256, 50256, 50256, 50256, 50256, 50256, 50256, 50256, 50256, 50256, 50256, 50256, 50256, 50256, 50256, 50256, 50256, 50256, 50256, 50256, 50256, 50256, 50256, 50256, 50256, 50256, 50256, 50256, 50256, 50256, 50256, 50256, 50256, 50256, 50256, 50256, 50256, 50256, 50256, 50256, 50256, 50256, 50256, 50256, 50256, 50256, 50256, 50256, 50256, 50256, 50256, 50256, 50256, 50256, 50256, 50256, 50256, 50256, 50256, 50256, 50256, 50256, 50256, 50256, 50256, 50256, 50256, 50256, 50256, 50256, 50256, 50256, 50256, 50256, 50256, 50256, 50256, 50256, 50256, 50256, 50256, 50256, 50256, 50256, 50256, 50256, 50256, 50256, 50256, 50256, 50256, 50256, 50256, 50256, 50256, 50256, 50256, 50256, 50256, 50256, 50256, 50256, 50256, 50256, 50256, 50256, 50256, 50256, 50256, 50256, 50256, 50256, 50256, 50256, 50256, 50256, 50256, 50256, 50256, 50256, 50256, 50256, 50256, 50256, 50256, 50256, 50256, 50256, 50256, 50256, 50256, 50256, 50256, 50256, 50256, 50256, 50256, 50256, 50256, 50256, 50256, 50256, 50256, 50256, 50256, 50256, 50256, 50256, 50256, 50256, 50256, 50256, 50256, 50256, 50256, 50256, 50256, 50256, 50256, 50256, 50256, 50256, 50256, 50256, 50256, 50256, 50256, 50256, 50256, 50256, 50256, 50256, 50256, 50256, 50256, 50256, 50256, 50256, 50256, 50256, 50256, 50256, 50256, 50256, 50256, 50256, 50256, 50256, 50256, 50256, 50256, 50256, 50256, 50256, 50256, 50256, 50256, 50256, 50256, 50256, 50256, 50256, 50256, 50256, 50256, 50256, 50256, 50256, 50256, 50256, 50256, 50256, 50256, 50256, 50256, 50256, 50256, 50256, 50256, 50256, 50256, 50256, 50256, 50256, 50256, 50256, 50256, 50256, 50256, 50256, 50256, 50256, 50256, 50256, 50256, 50256, 50256, 50256, 50256, 50256, 50256, 50256, 50256, 50256, 50256, 50256, 50256, 50256, 50256, 50256, 50256, 50256, 50256, 50256, 50256, 50256, 50256, 50256, 50256, 50256, 50256, 50256, 50256, 50256, 50256, 50256, 50256, 50256, 50256, 50256, 50256, 50256, 50256], 'attention_mask': [1, 1, 1, 1, 1, 1, 1, 1, 1, 1, 1, 1, 1, 1, 1, 1, 1, 1, 1, 1, 1, 1, 1, 1, 1, 1, 1, 1, 1, 1, 1, 1, 1, 1, 1, 1, 1, 1, 1, 1, 1, 1, 1, 1, 1, 1, 1, 1, 1, 1, 1, 1, 1, 1, 1, 1, 1, 1, 1, 1, 1, 1, 1, 1, 1, 1, 1, 1, 1, 1, 1, 1, 1, 1, 1, 0, 0, 0, 0, 0, 0, 0, 0, 0, 0, 0, 0, 0, 0, 0, 0, 0, 0, 0, 0, 0, 0, 0, 0, 0, 0, 0, 0, 0, 0, 0, 0, 0, 0, 0, 0, 0, 0, 0, 0, 0, 0, 0, 0, 0, 0, 0, 0, 0, 0, 0, 0, 0, 0, 0, 0, 0, 0, 0, 0, 0, 0, 0, 0, 0, 0, 0, 0, 0, 0, 0, 0, 0, 0, 0, 0, 0, 0, 0, 0, 0, 0, 0, 0, 0, 0, 0, 0, 0, 0, 0, 0, 0, 0, 0, 0, 0, 0, 0, 0, 0, 0, 0, 0, 0, 0, 0, 0, 0, 0, 0, 0, 0, 0, 0, 0, 0, 0, 0, 0, 0, 0, 0, 0, 0, 0, 0, 0, 0, 0, 0, 0, 0, 0, 0, 0, 0, 0, 0, 0, 0, 0, 0, 0, 0, 0, 0, 0, 0, 0, 0, 0, 0, 0, 0, 0, 0, 0, 0, 0, 0, 0, 0, 0, 0, 0, 0, 0, 0, 0, 0, 0, 0, 0, 0, 0, 0, 0, 0, 0, 0, 0, 0, 0, 0, 0, 0, 0, 0, 0, 0, 0, 0, 0, 0, 0, 0, 0, 0, 0, 0, 0, 0, 0, 0, 0, 0, 0, 0, 0, 0, 0, 0, 0, 0, 0, 0, 0, 0, 0, 0, 0, 0, 0, 0, 0, 0, 0, 0, 0, 0, 0, 0, 0, 0, 0, 0, 0, 0, 0, 0, 0, 0, 0, 0, 0, 0, 0, 0, 0, 0, 0, 0, 0, 0, 0, 0, 0, 0, 0, 0, 0, 0, 0, 0, 0, 0, 0, 0, 0, 0, 0, 0, 0, 0, 0, 0, 0, 0, 0, 0, 0, 0, 0, 0, 0, 0, 0, 0, 0, 0, 0, 0, 0, 0, 0, 0, 0, 0, 0, 0, 0, 0, 0, 0, 0, 0, 0, 0, 0, 0, 0, 0, 0, 0, 0, 0, 0, 0, 0, 0, 0, 0, 0, 0], 'labels': [198, 15056, 262, 1720, 6536, 11, 345, 761, 284, 7716, 257, 705, 15667, 6530, 4458, 198, 21017, 21743, 25, 10880, 9708, 220, 198, 21017, 8721, 6530, 25, 2297, 11632, 838, 32, 357, 11122, 378, 13980, 11, 604, 4579, 13931, 11, 5598, 4579, 20514, 8, 930, 362, 11972, 89, 2556, 64, 7231, 5053, 952, 402, 1495, 930, 23336, 285, 10910, 23490, 930, 39454, 12578, 35367, 930, 471, 457, 78, 642, 4579, 13931, 351, 13931, 35203, 198, 50256, 50256, 50256, 50256, 50256, 50256, 50256, 50256, 50256, 50256, 50256, 50256, 50256, 50256, 50256, 50256, 50256, 50256, 50256, 50256, 50256, 50256, 50256, 50256, 50256, 50256, 50256, 50256, 50256, 50256, 50256, 50256, 50256, 50256, 50256, 50256, 50256, 50256, 50256, 50256, 50256, 50256, 50256, 50256, 50256, 50256, 50256, 50256, 50256, 50256, 50256, 50256, 50256, 50256, 50256, 50256, 50256, 50256, 50256, 50256, 50256, 50256, 50256, 50256, 50256, 50256, 50256, 50256, 50256, 50256, 50256, 50256, 50256, 50256, 50256, 50256, 50256, 50256, 50256, 50256, 50256, 50256, 50256, 50256, 50256, 50256, 50256, 50256, 50256, 50256, 50256, 50256, 50256, 50256, 50256, 50256, 50256, 50256, 50256, 50256, 50256, 50256, 50256, 50256, 50256, 50256, 50256, 50256, 50256, 50256, 50256, 50256, 50256, 50256, 50256, 50256, 50256, 50256, 50256, 50256, 50256, 50256, 50256, 50256, 50256, 50256, 50256, 50256, 50256, 50256, 50256, 50256, 50256, 50256, 50256, 50256, 50256, 50256, 50256, 50256, 50256, 50256, 50256, 50256, 50256, 50256, 50256, 50256, 50256, 50256, 50256, 50256, 50256, 50256, 50256, 50256, 50256, 50256, 50256, 50256, 50256, 50256, 50256, 50256, 50256, 50256, 50256, 50256, 50256, 50256, 50256, 50256, 50256, 50256, 50256, 50256, 50256, 50256, 50256, 50256, 50256, 50256, 50256, 50256, 50256, 50256, 50256, 50256, 50256, 50256, 50256, 50256, 50256, 50256, 50256, 50256, 50256, 50256, 50256, 50256, 50256, 50256, 50256, 50256, 50256, 50256, 50256, 50256, 50256, 50256, 50256, 50256, 50256, 50256, 50256, 50256, 50256, 50256, 50256, 50256, 50256, 50256, 50256, 50256, 50256, 50256, 50256, 50256, 50256, 50256, 50256, 50256, 50256, 50256, 50256, 50256, 50256, 50256, 50256, 50256, 50256, 50256, 50256, 50256, 50256, 50256, 50256, 50256, 50256, 50256, 50256, 50256, 50256, 50256, 50256, 50256, 50256, 50256, 50256, 50256, 50256, 50256, 50256, 50256, 50256, 50256, 50256, 50256, 50256, 50256, 50256, 50256, 50256, 50256, 50256, 50256, 50256, 50256, 50256, 50256, 50256, 50256, 50256, 50256, 50256, 50256, 50256, 50256, 50256, 50256, 50256, 50256, 50256, 50256, 50256, 50256, 50256, 50256, 50256, 50256, 50256, 50256, 50256, 50256, 50256, 50256, 50256, 50256, 50256, 50256, 50256, 50256, 50256, 50256, 50256, 50256, 50256, 50256, 50256, 50256, 50256, 50256, 50256, 50256, 50256]}"
      ]
     },
     "execution_count": 30,
     "metadata": {},
     "output_type": "execute_result"
    }
   ],
   "source": [
    "tokenize(dataset['train'][0])"
   ]
  },
  {
   "cell_type": "code",
   "execution_count": 31,
   "id": "2d14af80-494c-41eb-8743-042c7c6b79bd",
   "metadata": {},
   "outputs": [
    {
     "name": "stderr",
     "output_type": "stream",
     "text": [
      "Map: 100%|██████████| 2344/2344 [00:03<00:00, 595.78 examples/s]\n",
      "Map: 100%|██████████| 293/293 [00:00<00:00, 525.81 examples/s]\n",
      "Map: 100%|██████████| 293/293 [00:00<00:00, 541.35 examples/s]\n"
     ]
    }
   ],
   "source": [
    "dataset_tokenized = dataset.map(tokenize)"
   ]
  },
  {
   "cell_type": "markdown",
   "id": "f714c2d2-425b-4dd5-a817-195584d59d2d",
   "metadata": {},
   "source": [
    "## Try base model before finetuned"
   ]
  },
  {
   "cell_type": "code",
   "execution_count": 32,
   "id": "f5239495-bdc7-47e6-8003-723a773431aa",
   "metadata": {},
   "outputs": [],
   "source": [
    "example_prompt = \"\"\"\n",
    "Given the product category, you need to generate a 'Product Name'.\n",
    "### Category: Smartphones\n",
    "### Product Name:\n",
    "\"\"\""
   ]
  },
  {
   "cell_type": "code",
   "execution_count": 33,
   "id": "7c825581-3b37-4a76-8220-7c81cdf89c8c",
   "metadata": {},
   "outputs": [
    {
     "name": "stderr",
     "output_type": "stream",
     "text": [
      "Setting `pad_token_id` to `eos_token_id`:50256 for open-end generation.\n"
     ]
    },
    {
     "name": "stdout",
     "output_type": "stream",
     "text": [
      "\n",
      "Given the product category, you need to generate a 'Product Name'.\n",
      "### Category: Smartphones\n",
      "### Product Name:\n",
      "# Output: \n",
      "## Product Name: XYZ Smartphone\n",
      "\n"
     ]
    }
   ],
   "source": [
    "# tokenize -> generate -> decode\n",
    "# Tokenize\n",
    "model_input = tokenizer(\n",
    "    example_prompt,\n",
    "    truncation = True,\n",
    "    max_length=max_length,\n",
    "    padding = \"max_length\",\n",
    "    return_tensors='pt'\n",
    ").to(device)\n",
    "\n",
    "model.eval()\n",
    "with torch.no_grad():\n",
    "    # Generate\n",
    "    output = model.generate(**model_input,\n",
    "                           max_new_tokens=256,\n",
    "                           repetition_penalty=1.15)\n",
    "    # Decode\n",
    "    result = tokenizer.decode(output[0], skip_special_tokens=True)\n",
    "    print(result)"
   ]
  },
  {
   "cell_type": "markdown",
   "id": "5c69c15a-1bf6-4461-9354-d9e0f1e7cce4",
   "metadata": {},
   "source": [
    "Surprisingly the model is already good?"
   ]
  },
  {
   "cell_type": "markdown",
   "id": "e023ce78-29ac-49f0-ac1c-f73c1b11a8e7",
   "metadata": {},
   "source": [
    "## LoRA config"
   ]
  },
  {
   "cell_type": "code",
   "execution_count": 34,
   "id": "9527a7bb-ee4d-43a5-b354-fd9e194bad17",
   "metadata": {},
   "outputs": [],
   "source": [
    "from peft import LoraConfig, get_peft_model"
   ]
  },
  {
   "cell_type": "code",
   "execution_count": 35,
   "id": "af5ea00c-b4b2-4a92-b2d7-6d29fd8f6f95",
   "metadata": {},
   "outputs": [],
   "source": [
    "config = LoraConfig(\n",
    "    r=64,\n",
    "    lora_alpha=64,\n",
    "    target_modules=[\"Wqkv\", \"fc1\", \"fc2\"],\n",
    "    bias=\"none\",\n",
    "    lora_dropout=0.05,\n",
    "    task_type=\"CAUSAL_LM\"\n",
    ")"
   ]
  },
  {
   "cell_type": "code",
   "execution_count": 36,
   "id": "b5dfd7d8-a688-4522-8023-1992de0c31a3",
   "metadata": {},
   "outputs": [],
   "source": [
    "model = get_peft_model(model, config)"
   ]
  },
  {
   "cell_type": "code",
   "execution_count": 37,
   "id": "da9e0151-0ad9-4f0d-8ca6-b2a1de18d1e0",
   "metadata": {},
   "outputs": [],
   "source": [
    "def print_trainable_parameters(model):\n",
    "    trainable_params = 0\n",
    "    all_param = 0\n",
    "    for _, param in model.named_parameters():\n",
    "        all_param += param.numel()\n",
    "        if param.requires_grad:\n",
    "            trainable_params += param.numel()\n",
    "    print(f\"Trainable params: {trainable_params} || All params: {all_param} || % Trainable: {(100 * trainable_params / all_param):.4f}\")"
   ]
  },
  {
   "cell_type": "code",
   "execution_count": 38,
   "id": "ab15ba18-e0fe-42a6-8cb1-6b710a700841",
   "metadata": {},
   "outputs": [
    {
     "name": "stdout",
     "output_type": "stream",
     "text": [
      "Trainable params: 52428800 || All params: 2832112640 || % Trainable: 1.8512\n"
     ]
    }
   ],
   "source": [
    "print_trainable_parameters(model)"
   ]
  },
  {
   "cell_type": "markdown",
   "id": "be6c4abc-ec57-450b-9afa-8dade9273f9c",
   "metadata": {},
   "source": [
    "## Model training"
   ]
  },
  {
   "cell_type": "code",
   "execution_count": 39,
   "id": "446575dd-840f-4242-b6d3-2183bd52c53a",
   "metadata": {},
   "outputs": [],
   "source": [
    "from accelerate import Accelerator\n",
    "\n",
    "accelerator = Accelerator(gradient_accumulation_steps=1)\n",
    "\n",
    "model = accelerator.prepare_model(model)"
   ]
  },
  {
   "cell_type": "code",
   "execution_count": 40,
   "id": "45b010d3-6a9a-4778-8faf-6d552635ce46",
   "metadata": {},
   "outputs": [],
   "source": [
    "from transformers import TrainingArguments, Trainer, DataCollatorForLanguageModeling"
   ]
  },
  {
   "cell_type": "code",
   "execution_count": 41,
   "id": "5c2a6141-72dc-47e1-9934-8510d94e1e25",
   "metadata": {},
   "outputs": [],
   "source": [
    "args = TrainingArguments(\n",
    "    output_dir=\"train_dir\",\n",
    "    per_device_train_batch_size=2,\n",
    "    gradient_accumulation_steps=1,\n",
    "    max_steps=1000,\n",
    "    learning_rate=5e-5, \n",
    "    logging_steps=25,              # When to start reporting loss\n",
    "    logging_dir=\"./logs\",          # Directory for storing logs\n",
    "    save_strategy=\"steps\",         # Save the model checkpoint every logging step\n",
    "    save_steps=200,                 # Save checkpoints every 50 steps\n",
    "    eval_strategy=\"steps\",   # Evaluate the model every logging step\n",
    "    eval_steps=200,                 # Evaluate and save checkpoints every 50 steps\n",
    "    do_eval=True,                  # Perform evaluation at the end of training\n",
    ")"
   ]
  },
  {
   "cell_type": "code",
   "execution_count": 42,
   "id": "31e9d0ae-acae-4c26-a8eb-978ff837de9b",
   "metadata": {},
   "outputs": [
    {
     "name": "stderr",
     "output_type": "stream",
     "text": [
      "No label_names provided for model class `PeftModelForCausalLM`. Since `PeftModel` hides base models input arguments, if label_names is not given, label_names can't be set automatically within `Trainer`. Note that empty label_names list will be used instead.\n"
     ]
    }
   ],
   "source": [
    "trainer = Trainer(\n",
    "    model=model,\n",
    "    args=args,\n",
    "    train_dataset=dataset_tokenized['train'],\n",
    "    eval_dataset=dataset_tokenized['val'],\n",
    "    data_collator=DataCollatorForLanguageModeling(tokenizer, mlm=False),\n",
    ")"
   ]
  },
  {
   "cell_type": "code",
   "execution_count": 43,
   "id": "c0cee573-1f54-48f4-89b7-a5c73ecb5e02",
   "metadata": {},
   "outputs": [
    {
     "data": {
      "text/html": [
       "\n",
       "    <div>\n",
       "      \n",
       "      <progress value='1000' max='1000' style='width:300px; height:20px; vertical-align: middle;'></progress>\n",
       "      [1000/1000 06:24, Epoch 0/1]\n",
       "    </div>\n",
       "    <table border=\"1\" class=\"dataframe\">\n",
       "  <thead>\n",
       " <tr style=\"text-align: left;\">\n",
       "      <th>Step</th>\n",
       "      <th>Training Loss</th>\n",
       "      <th>Validation Loss</th>\n",
       "    </tr>\n",
       "  </thead>\n",
       "  <tbody>\n",
       "    <tr>\n",
       "      <td>200</td>\n",
       "      <td>2.621900</td>\n",
       "      <td>2.731203</td>\n",
       "    </tr>\n",
       "    <tr>\n",
       "      <td>400</td>\n",
       "      <td>2.586200</td>\n",
       "      <td>2.684880</td>\n",
       "    </tr>\n",
       "    <tr>\n",
       "      <td>600</td>\n",
       "      <td>2.663200</td>\n",
       "      <td>2.635527</td>\n",
       "    </tr>\n",
       "    <tr>\n",
       "      <td>800</td>\n",
       "      <td>2.492400</td>\n",
       "      <td>2.637958</td>\n",
       "    </tr>\n",
       "    <tr>\n",
       "      <td>1000</td>\n",
       "      <td>2.589600</td>\n",
       "      <td>2.631725</td>\n",
       "    </tr>\n",
       "  </tbody>\n",
       "</table><p>"
      ],
      "text/plain": [
       "<IPython.core.display.HTML object>"
      ]
     },
     "metadata": {},
     "output_type": "display_data"
    },
    {
     "data": {
      "text/plain": [
       "TrainOutput(global_step=1000, training_loss=2.6788897361755373, metrics={'train_runtime': 384.8304, 'train_samples_per_second': 5.197, 'train_steps_per_second': 2.599, 'total_flos': 1.2964995072e+16, 'train_loss': 2.6788897361755373, 'epoch': 0.8532423208191127})"
      ]
     },
     "execution_count": 43,
     "metadata": {},
     "output_type": "execute_result"
    }
   ],
   "source": [
    "model.config.use_cache = False \n",
    "trainer.train()"
   ]
  },
  {
   "cell_type": "markdown",
   "id": "94d92573-30f4-499c-869e-b3c4bc94a424",
   "metadata": {},
   "source": [
    "## Load saved model and inference"
   ]
  },
  {
   "cell_type": "code",
   "execution_count": 44,
   "id": "7fe8b85c-8d50-48fa-be90-b8848e572fc2",
   "metadata": {},
   "outputs": [],
   "source": [
    "import torch\n",
    "\n",
    "device = torch.device(\"cuda\" if torch.cuda.is_available() else \"cpu\")"
   ]
  },
  {
   "cell_type": "code",
   "execution_count": 45,
   "id": "9d8cd161-4d21-419a-b5c8-c5693f7a0a9d",
   "metadata": {},
   "outputs": [
    {
     "name": "stderr",
     "output_type": "stream",
     "text": [
      "Loading checkpoint shards: 100%|██████████| 2/2 [00:00<00:00, 15.14it/s]\n"
     ]
    }
   ],
   "source": [
    "from transformers import AutoModelForCausalLM\n",
    "\n",
    "model_ckpt = \"microsoft/phi-2\"\n",
    "base_model = AutoModelForCausalLM.from_pretrained(model_ckpt,\n",
    "                                            trust_remote_code=True,\n",
    "                                            torch_dtype=torch.float16,\n",
    "                                            ).to(device)"
   ]
  },
  {
   "cell_type": "code",
   "execution_count": 46,
   "id": "c9d2a519-0270-4617-a865-7616f9c94753",
   "metadata": {},
   "outputs": [],
   "source": [
    "from transformers import AutoTokenizer\n",
    "\n",
    "eval_tokenizer = AutoTokenizer.from_pretrained(model_ckpt,\n",
    "                                         padding_size='left',\n",
    "                                         add_bos=True,\n",
    "                                         add_eos=True,\n",
    "                                         use_fast=False)\n",
    "\n",
    "eval_tokenizer.pad_token = tokenizer.eos_token"
   ]
  },
  {
   "cell_type": "code",
   "execution_count": 47,
   "id": "9acb130b-1553-47c3-a418-7342539fb011",
   "metadata": {},
   "outputs": [],
   "source": [
    "from peft import PeftModel\n",
    "\n",
    "ft_model = PeftModel.from_pretrained(base_model, './train_dir/checkpoint-1000')"
   ]
  },
  {
   "cell_type": "code",
   "execution_count": 48,
   "id": "c48052e9-f950-44fd-b721-1be3c2924bb0",
   "metadata": {},
   "outputs": [
    {
     "name": "stderr",
     "output_type": "stream",
     "text": [
      "Setting `pad_token_id` to `eos_token_id`:50256 for open-end generation.\n"
     ]
    },
    {
     "name": "stdout",
     "output_type": "stream",
     "text": [
      "\n",
      "Given the product category, you need to generate a 'Product Name'.\n",
      "### Category: Smartphones\n",
      "### Product Name:\n",
      "### Samsung Galaxy S21 Ultra (5G) | 64GB RAM| 12GB Storage \n",
      "### Product Description:\n",
      "### The Samsung Galaxy S21 Ultra is packed with premium features and cutting-edge technology. It boasts an impressive 5G connectivity for lightning fast internet speeds. With its 64GB RAM, it can handle multitasking like never before. And thanks to its 12GB storage, you'll have plenty of space to store all your favorite apps, photos, videos, and more.\n",
      "### Product Features:\n",
      "### - 6.8 inches Dynamic AMOLED 2200 x 1080 pixels display\n",
      "### - 108MP camera with 8GB AI memory card\n",
      "### - 5000mAh battery that supports wireless charging & reverse wireless charging\n",
      "### - In-display fingerprint scanner for added security\n",
      "### Product Specifications:\n",
      "### - Processor: Exynos 2100 (10nm)\n",
      "### - GPU: Adreno 620 (12GB TPU)\n",
      "### - Storage: 128GB/256GB/512GB/1TB/2TB/4TB/6TB/8GB/16GB/32GB/64GB/128GB/256GB/512GB/1024GB/2048GB/4096GB SSDs\n",
      "### - Display: 6.\n"
     ]
    }
   ],
   "source": [
    "eval_prompt = \"\"\"\n",
    "Given the product category, you need to generate a 'Product Name'.\n",
    "### Category: Smartphones\n",
    "### Product Name:\n",
    "\"\"\"\n",
    "\n",
    "# tokenize -> generate -> decode\n",
    "# Tokenize\n",
    "model_input = eval_tokenizer(\n",
    "    eval_prompt,\n",
    "    return_tensors='pt'\n",
    ").to(device)\n",
    "\n",
    "ft_model.eval()\n",
    "with torch.no_grad():\n",
    "    # Generate\n",
    "    output = ft_model.generate(**model_input,\n",
    "                               max_new_tokens=256,\n",
    "                               repetition_penalty=1.15)\n",
    "    # Decode\n",
    "    result = eval_tokenizer.decode(output[0], skip_special_tokens=True)\n",
    "    print(result)"
   ]
  },
  {
   "cell_type": "code",
   "execution_count": null,
   "id": "8d57f941-afd2-47ad-b1dd-2e1ce00a0176",
   "metadata": {},
   "outputs": [],
   "source": []
  }
 ],
 "metadata": {
  "kernelspec": {
   "display_name": "Farrel (env)",
   "language": "python",
   "name": "farrelenv"
  },
  "language_info": {
   "codemirror_mode": {
    "name": "ipython",
    "version": 3
   },
   "file_extension": ".py",
   "mimetype": "text/x-python",
   "name": "python",
   "nbconvert_exporter": "python",
   "pygments_lexer": "ipython3",
   "version": "3.10.14"
  }
 },
 "nbformat": 4,
 "nbformat_minor": 5
}
